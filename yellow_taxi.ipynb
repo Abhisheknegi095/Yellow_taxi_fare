{
 "cells": [
  {
   "cell_type": "code",
   "execution_count": 118,
   "id": "62e33227",
   "metadata": {},
   "outputs": [],
   "source": [
    "import pandas as pd\n",
    "import matplotlib.pyplot as plt\n",
    "import seaborn as sns\n",
    "import numpy as np\n",
    "import os"
   ]
  },
  {
   "cell_type": "code",
   "execution_count": 119,
   "id": "47f87c1d",
   "metadata": {},
   "outputs": [],
   "source": [
    "os.chdir(r'C:\\Users\\Vivek\\PGA32')"
   ]
  },
  {
   "cell_type": "code",
   "execution_count": 120,
   "id": "fd43bd39",
   "metadata": {},
   "outputs": [],
   "source": [
    "df = pd.read_parquet('yellow_tripdata_2023_02.parquet')"
   ]
  },
  {
   "cell_type": "code",
   "execution_count": 121,
   "id": "62011c48",
   "metadata": {},
   "outputs": [],
   "source": [
    "# here target variable is fare_amount"
   ]
  },
  {
   "cell_type": "code",
   "execution_count": 122,
   "id": "06084159",
   "metadata": {},
   "outputs": [
    {
     "data": {
      "text/html": [
       "<div>\n",
       "<style scoped>\n",
       "    .dataframe tbody tr th:only-of-type {\n",
       "        vertical-align: middle;\n",
       "    }\n",
       "\n",
       "    .dataframe tbody tr th {\n",
       "        vertical-align: top;\n",
       "    }\n",
       "\n",
       "    .dataframe thead th {\n",
       "        text-align: right;\n",
       "    }\n",
       "</style>\n",
       "<table border=\"1\" class=\"dataframe\">\n",
       "  <thead>\n",
       "    <tr style=\"text-align: right;\">\n",
       "      <th></th>\n",
       "      <th>VendorID</th>\n",
       "      <th>tpep_pickup_datetime</th>\n",
       "      <th>tpep_dropoff_datetime</th>\n",
       "      <th>passenger_count</th>\n",
       "      <th>trip_distance</th>\n",
       "      <th>RatecodeID</th>\n",
       "      <th>store_and_fwd_flag</th>\n",
       "      <th>PULocationID</th>\n",
       "      <th>DOLocationID</th>\n",
       "      <th>payment_type</th>\n",
       "      <th>fare_amount</th>\n",
       "      <th>extra</th>\n",
       "      <th>mta_tax</th>\n",
       "      <th>tip_amount</th>\n",
       "      <th>tolls_amount</th>\n",
       "      <th>improvement_surcharge</th>\n",
       "      <th>total_amount</th>\n",
       "      <th>congestion_surcharge</th>\n",
       "      <th>Airport_fee</th>\n",
       "    </tr>\n",
       "  </thead>\n",
       "  <tbody>\n",
       "    <tr>\n",
       "      <th>0</th>\n",
       "      <td>1</td>\n",
       "      <td>2023-02-01 00:32:53</td>\n",
       "      <td>2023-02-01 00:34:34</td>\n",
       "      <td>2.0</td>\n",
       "      <td>0.30</td>\n",
       "      <td>1.0</td>\n",
       "      <td>N</td>\n",
       "      <td>142</td>\n",
       "      <td>163</td>\n",
       "      <td>2</td>\n",
       "      <td>4.4</td>\n",
       "      <td>3.50</td>\n",
       "      <td>0.5</td>\n",
       "      <td>0.0</td>\n",
       "      <td>0.0</td>\n",
       "      <td>1.0</td>\n",
       "      <td>9.40</td>\n",
       "      <td>2.5</td>\n",
       "      <td>0.00</td>\n",
       "    </tr>\n",
       "    <tr>\n",
       "      <th>1</th>\n",
       "      <td>2</td>\n",
       "      <td>2023-02-01 00:35:16</td>\n",
       "      <td>2023-02-01 00:35:30</td>\n",
       "      <td>1.0</td>\n",
       "      <td>0.00</td>\n",
       "      <td>1.0</td>\n",
       "      <td>N</td>\n",
       "      <td>71</td>\n",
       "      <td>71</td>\n",
       "      <td>4</td>\n",
       "      <td>-3.0</td>\n",
       "      <td>-1.00</td>\n",
       "      <td>-0.5</td>\n",
       "      <td>0.0</td>\n",
       "      <td>0.0</td>\n",
       "      <td>-1.0</td>\n",
       "      <td>-5.50</td>\n",
       "      <td>0.0</td>\n",
       "      <td>0.00</td>\n",
       "    </tr>\n",
       "    <tr>\n",
       "      <th>2</th>\n",
       "      <td>2</td>\n",
       "      <td>2023-02-01 00:35:16</td>\n",
       "      <td>2023-02-01 00:35:30</td>\n",
       "      <td>1.0</td>\n",
       "      <td>0.00</td>\n",
       "      <td>1.0</td>\n",
       "      <td>N</td>\n",
       "      <td>71</td>\n",
       "      <td>71</td>\n",
       "      <td>4</td>\n",
       "      <td>3.0</td>\n",
       "      <td>1.00</td>\n",
       "      <td>0.5</td>\n",
       "      <td>0.0</td>\n",
       "      <td>0.0</td>\n",
       "      <td>1.0</td>\n",
       "      <td>5.50</td>\n",
       "      <td>0.0</td>\n",
       "      <td>0.00</td>\n",
       "    </tr>\n",
       "    <tr>\n",
       "      <th>3</th>\n",
       "      <td>1</td>\n",
       "      <td>2023-02-01 00:29:33</td>\n",
       "      <td>2023-02-01 01:01:38</td>\n",
       "      <td>0.0</td>\n",
       "      <td>18.80</td>\n",
       "      <td>1.0</td>\n",
       "      <td>N</td>\n",
       "      <td>132</td>\n",
       "      <td>26</td>\n",
       "      <td>1</td>\n",
       "      <td>70.9</td>\n",
       "      <td>2.25</td>\n",
       "      <td>0.5</td>\n",
       "      <td>0.0</td>\n",
       "      <td>0.0</td>\n",
       "      <td>1.0</td>\n",
       "      <td>74.65</td>\n",
       "      <td>0.0</td>\n",
       "      <td>1.25</td>\n",
       "    </tr>\n",
       "    <tr>\n",
       "      <th>4</th>\n",
       "      <td>2</td>\n",
       "      <td>2023-02-01 00:12:28</td>\n",
       "      <td>2023-02-01 00:25:46</td>\n",
       "      <td>1.0</td>\n",
       "      <td>3.22</td>\n",
       "      <td>1.0</td>\n",
       "      <td>N</td>\n",
       "      <td>161</td>\n",
       "      <td>145</td>\n",
       "      <td>1</td>\n",
       "      <td>17.0</td>\n",
       "      <td>1.00</td>\n",
       "      <td>0.5</td>\n",
       "      <td>3.3</td>\n",
       "      <td>0.0</td>\n",
       "      <td>1.0</td>\n",
       "      <td>25.30</td>\n",
       "      <td>2.5</td>\n",
       "      <td>0.00</td>\n",
       "    </tr>\n",
       "  </tbody>\n",
       "</table>\n",
       "</div>"
      ],
      "text/plain": [
       "   VendorID tpep_pickup_datetime tpep_dropoff_datetime  passenger_count  \\\n",
       "0         1  2023-02-01 00:32:53   2023-02-01 00:34:34              2.0   \n",
       "1         2  2023-02-01 00:35:16   2023-02-01 00:35:30              1.0   \n",
       "2         2  2023-02-01 00:35:16   2023-02-01 00:35:30              1.0   \n",
       "3         1  2023-02-01 00:29:33   2023-02-01 01:01:38              0.0   \n",
       "4         2  2023-02-01 00:12:28   2023-02-01 00:25:46              1.0   \n",
       "\n",
       "   trip_distance  RatecodeID store_and_fwd_flag  PULocationID  DOLocationID  \\\n",
       "0           0.30         1.0                  N           142           163   \n",
       "1           0.00         1.0                  N            71            71   \n",
       "2           0.00         1.0                  N            71            71   \n",
       "3          18.80         1.0                  N           132            26   \n",
       "4           3.22         1.0                  N           161           145   \n",
       "\n",
       "   payment_type  fare_amount  extra  mta_tax  tip_amount  tolls_amount  \\\n",
       "0             2          4.4   3.50      0.5         0.0           0.0   \n",
       "1             4         -3.0  -1.00     -0.5         0.0           0.0   \n",
       "2             4          3.0   1.00      0.5         0.0           0.0   \n",
       "3             1         70.9   2.25      0.5         0.0           0.0   \n",
       "4             1         17.0   1.00      0.5         3.3           0.0   \n",
       "\n",
       "   improvement_surcharge  total_amount  congestion_surcharge  Airport_fee  \n",
       "0                    1.0          9.40                   2.5         0.00  \n",
       "1                   -1.0         -5.50                   0.0         0.00  \n",
       "2                    1.0          5.50                   0.0         0.00  \n",
       "3                    1.0         74.65                   0.0         1.25  \n",
       "4                    1.0         25.30                   2.5         0.00  "
      ]
     },
     "execution_count": 122,
     "metadata": {},
     "output_type": "execute_result"
    }
   ],
   "source": [
    "df.head()"
   ]
  },
  {
   "cell_type": "code",
   "execution_count": 123,
   "id": "60223e07",
   "metadata": {},
   "outputs": [
    {
     "data": {
      "text/html": [
       "<div>\n",
       "<style scoped>\n",
       "    .dataframe tbody tr th:only-of-type {\n",
       "        vertical-align: middle;\n",
       "    }\n",
       "\n",
       "    .dataframe tbody tr th {\n",
       "        vertical-align: top;\n",
       "    }\n",
       "\n",
       "    .dataframe thead th {\n",
       "        text-align: right;\n",
       "    }\n",
       "</style>\n",
       "<table border=\"1\" class=\"dataframe\">\n",
       "  <thead>\n",
       "    <tr style=\"text-align: right;\">\n",
       "      <th></th>\n",
       "      <th>VendorID</th>\n",
       "      <th>tpep_pickup_datetime</th>\n",
       "      <th>tpep_dropoff_datetime</th>\n",
       "      <th>passenger_count</th>\n",
       "      <th>trip_distance</th>\n",
       "      <th>RatecodeID</th>\n",
       "      <th>store_and_fwd_flag</th>\n",
       "      <th>PULocationID</th>\n",
       "      <th>DOLocationID</th>\n",
       "      <th>payment_type</th>\n",
       "      <th>fare_amount</th>\n",
       "    </tr>\n",
       "  </thead>\n",
       "  <tbody>\n",
       "    <tr>\n",
       "      <th>0</th>\n",
       "      <td>1</td>\n",
       "      <td>2023-02-01 00:32:53</td>\n",
       "      <td>2023-02-01 00:34:34</td>\n",
       "      <td>2.0</td>\n",
       "      <td>0.3</td>\n",
       "      <td>1.0</td>\n",
       "      <td>N</td>\n",
       "      <td>142</td>\n",
       "      <td>163</td>\n",
       "      <td>2</td>\n",
       "      <td>4.4</td>\n",
       "    </tr>\n",
       "    <tr>\n",
       "      <th>1</th>\n",
       "      <td>2</td>\n",
       "      <td>2023-02-01 00:35:16</td>\n",
       "      <td>2023-02-01 00:35:30</td>\n",
       "      <td>1.0</td>\n",
       "      <td>0.0</td>\n",
       "      <td>1.0</td>\n",
       "      <td>N</td>\n",
       "      <td>71</td>\n",
       "      <td>71</td>\n",
       "      <td>4</td>\n",
       "      <td>-3.0</td>\n",
       "    </tr>\n",
       "  </tbody>\n",
       "</table>\n",
       "</div>"
      ],
      "text/plain": [
       "   VendorID tpep_pickup_datetime tpep_dropoff_datetime  passenger_count  \\\n",
       "0         1  2023-02-01 00:32:53   2023-02-01 00:34:34              2.0   \n",
       "1         2  2023-02-01 00:35:16   2023-02-01 00:35:30              1.0   \n",
       "\n",
       "   trip_distance  RatecodeID store_and_fwd_flag  PULocationID  DOLocationID  \\\n",
       "0            0.3         1.0                  N           142           163   \n",
       "1            0.0         1.0                  N            71            71   \n",
       "\n",
       "   payment_type  fare_amount  \n",
       "0             2          4.4  \n",
       "1             4         -3.0  "
      ]
     },
     "execution_count": 123,
     "metadata": {},
     "output_type": "execute_result"
    }
   ],
   "source": [
    "df1 = df.drop(columns=['extra','mta_tax','tip_amount','tolls_amount','improvement_surcharge','congestion_surcharge','Airport_fee','total_amount'])\n",
    "df1.head(2) ## remove all the unnecessary columns"
   ]
  },
  {
   "cell_type": "code",
   "execution_count": 124,
   "id": "e05bc7e4",
   "metadata": {},
   "outputs": [],
   "source": [
    "## FEature engineering (creating new variables)"
   ]
  },
  {
   "cell_type": "code",
   "execution_count": 125,
   "id": "839735b3",
   "metadata": {},
   "outputs": [
    {
     "data": {
      "text/plain": [
       "2    2124917\n",
       "1     787837\n",
       "6       1201\n",
       "Name: VendorID, dtype: int64"
      ]
     },
     "execution_count": 125,
     "metadata": {},
     "output_type": "execute_result"
    }
   ],
   "source": [
    "df1['VendorID'].value_counts()# this is actualy a categorical column because their numerical values 1 and 2 not realising that whateever is high and low\n",
    "# we will make this variable dummy"
   ]
  },
  {
   "cell_type": "code",
   "execution_count": 126,
   "id": "43d64832",
   "metadata": {},
   "outputs": [
    {
     "data": {
      "text/plain": [
       "1.0    2162692\n",
       "2.0     414537\n",
       "3.0      97699\n",
       "4.0      48147\n",
       "0.0      47277\n",
       "5.0      39984\n",
       "6.0      26788\n",
       "9.0          6\n",
       "8.0          5\n",
       "7.0          3\n",
       "Name: passenger_count, dtype: int64"
      ]
     },
     "execution_count": 126,
     "metadata": {},
     "output_type": "execute_result"
    }
   ],
   "source": [
    "df1['passenger_count'].value_counts()"
   ]
  },
  {
   "cell_type": "code",
   "execution_count": 127,
   "id": "d9a1a279",
   "metadata": {},
   "outputs": [],
   "source": [
    "df1 = df1[df1['passenger_count']<=6] # remove 9,8,7 because they are outliers\n"
   ]
  },
  {
   "cell_type": "code",
   "execution_count": 129,
   "id": "5dff8c25",
   "metadata": {},
   "outputs": [
    {
     "data": {
      "text/plain": [
       "1.0    2162692\n",
       "2.0     414537\n",
       "3.0      97699\n",
       "4.0      48147\n",
       "0.0      47277\n",
       "5.0      39984\n",
       "6.0      26788\n",
       "Name: passenger_count, dtype: int64"
      ]
     },
     "execution_count": 129,
     "metadata": {},
     "output_type": "execute_result"
    }
   ],
   "source": [
    "df1['passenger_count'].value_counts()"
   ]
  },
  {
   "cell_type": "code",
   "execution_count": 14,
   "id": "8ce7c570",
   "metadata": {},
   "outputs": [
    {
     "name": "stdout",
     "output_type": "stream",
     "text": [
      "<class 'pandas.core.frame.DataFrame'>\n",
      "Int64Index: 2837124 entries, 0 to 2837137\n",
      "Data columns (total 11 columns):\n",
      " #   Column                 Dtype         \n",
      "---  ------                 -----         \n",
      " 0   VendorID               int32         \n",
      " 1   tpep_pickup_datetime   datetime64[ns]\n",
      " 2   tpep_dropoff_datetime  datetime64[ns]\n",
      " 3   passenger_count        float64       \n",
      " 4   trip_distance          float64       \n",
      " 5   RatecodeID             float64       \n",
      " 6   store_and_fwd_flag     object        \n",
      " 7   PULocationID           int32         \n",
      " 8   DOLocationID           int32         \n",
      " 9   payment_type           int64         \n",
      " 10  fare_amount            float64       \n",
      "dtypes: datetime64[ns](2), float64(4), int32(3), int64(1), object(1)\n",
      "memory usage: 227.3+ MB\n"
     ]
    }
   ],
   "source": [
    "df1.info()"
   ]
  },
  {
   "cell_type": "code",
   "execution_count": 130,
   "id": "14379de0",
   "metadata": {},
   "outputs": [
    {
     "data": {
      "text/plain": [
       "1.00     40658\n",
       "0.90     40524\n",
       "1.10     39710\n",
       "0.80     39473\n",
       "1.20     38710\n",
       "         ...  \n",
       "33.35        1\n",
       "52.37        1\n",
       "37.87        1\n",
       "37.02        1\n",
       "51.45        1\n",
       "Name: trip_distance, Length: 4251, dtype: int64"
      ]
     },
     "execution_count": 130,
     "metadata": {},
     "output_type": "execute_result"
    }
   ],
   "source": [
    "df1['trip_distance'].value_counts()"
   ]
  },
  {
   "cell_type": "code",
   "execution_count": 16,
   "id": "0de2a1b4",
   "metadata": {},
   "outputs": [
    {
     "data": {
      "text/plain": [
       "count    2837124.000000\n",
       "mean           3.345950\n",
       "std           24.953586\n",
       "min            0.000000\n",
       "10%            0.680000\n",
       "20%            0.920000\n",
       "30%            1.180000\n",
       "40%            1.440000\n",
       "50%            1.760000\n",
       "60%            2.170000\n",
       "70%            2.780000\n",
       "80%            3.940000\n",
       "90%            8.400000\n",
       "95%           13.440000\n",
       "96%           16.480000\n",
       "97%           17.600000\n",
       "98%           18.420000\n",
       "99%           19.900000\n",
       "99.9%         28.660000\n",
       "max        17456.830000\n",
       "Name: trip_distance, dtype: object"
      ]
     },
     "execution_count": 16,
     "metadata": {},
     "output_type": "execute_result"
    }
   ],
   "source": [
    "df1['trip_distance'].describe(percentiles = [0.1,0.2,0.3,0.4,0.5,0.6,0.7,0.8,0.9,0.95,0.96,0.97,0.98,0.99,0.999]).apply(lambda x : format(x,\"f\"))\n",
    "\n",
    "# apply use to remove scientific notification"
   ]
  },
  {
   "cell_type": "code",
   "execution_count": 132,
   "id": "e490a003",
   "metadata": {},
   "outputs": [
    {
     "data": {
      "text/plain": [
       "(2834505, 11)"
      ]
     },
     "execution_count": 132,
     "metadata": {},
     "output_type": "execute_result"
    }
   ],
   "source": [
    "df1[df1['trip_distance']<=29].shape"
   ]
  },
  {
   "cell_type": "code",
   "execution_count": 17,
   "id": "4a5154ca",
   "metadata": {},
   "outputs": [],
   "source": [
    "df1 = df1[df1['trip_distance']<=29] # 99.9% travel 28.66 mile rest 0.1 %  are act as outlier so we will remove them"
   ]
  },
  {
   "cell_type": "code",
   "execution_count": 18,
   "id": "aa46fb9c",
   "metadata": {},
   "outputs": [
    {
     "data": {
      "text/plain": [
       "(2834505, 11)"
      ]
     },
     "execution_count": 18,
     "metadata": {},
     "output_type": "execute_result"
    }
   ],
   "source": [
    "df1.shape"
   ]
  },
  {
   "cell_type": "code",
   "execution_count": 133,
   "id": "84114d52",
   "metadata": {},
   "outputs": [
    {
     "data": {
      "text/plain": [
       "1.0     2698684\n",
       "2.0       99195\n",
       "5.0       13109\n",
       "99.0      13037\n",
       "3.0        8764\n",
       "4.0        4328\n",
       "6.0           7\n",
       "Name: RatecodeID, dtype: int64"
      ]
     },
     "execution_count": 133,
     "metadata": {},
     "output_type": "execute_result"
    }
   ],
   "source": [
    "df1['RatecodeID'].value_counts()"
   ]
  },
  {
   "cell_type": "code",
   "execution_count": 134,
   "id": "82d24aa4",
   "metadata": {},
   "outputs": [
    {
     "data": {
      "text/plain": [
       "N    2820553\n",
       "Y      16571\n",
       "Name: store_and_fwd_flag, dtype: int64"
      ]
     },
     "execution_count": 134,
     "metadata": {},
     "output_type": "execute_result"
    }
   ],
   "source": [
    "df1['store_and_fwd_flag'].value_counts()"
   ]
  },
  {
   "cell_type": "code",
   "execution_count": 135,
   "id": "116625a6",
   "metadata": {},
   "outputs": [
    {
     "data": {
      "text/plain": [
       "161    133506\n",
       "237    132725\n",
       "132    131865\n",
       "236    123099\n",
       "186    103633\n",
       "        ...  \n",
       "221         1\n",
       "105         1\n",
       "187         1\n",
       "251         1\n",
       "176         1\n",
       "Name: PULocationID, Length: 258, dtype: int64"
      ]
     },
     "execution_count": 135,
     "metadata": {},
     "output_type": "execute_result"
    }
   ],
   "source": [
    "df1['PULocationID'].value_counts()"
   ]
  },
  {
   "cell_type": "code",
   "execution_count": 136,
   "id": "19e22d25",
   "metadata": {},
   "outputs": [
    {
     "data": {
      "text/plain": [
       "236    129654\n",
       "237    118408\n",
       "161    107660\n",
       "170     83945\n",
       "230     82812\n",
       "        ...  \n",
       "204        14\n",
       "187        13\n",
       "99          6\n",
       "105         3\n",
       "2           2\n",
       "Name: DOLocationID, Length: 261, dtype: int64"
      ]
     },
     "execution_count": 136,
     "metadata": {},
     "output_type": "execute_result"
    }
   ],
   "source": [
    "df1['DOLocationID'].value_counts()"
   ]
  },
  {
   "cell_type": "code",
   "execution_count": 137,
   "id": "608d1cc0",
   "metadata": {},
   "outputs": [],
   "source": [
    "# we have to create new column from PULocaitionID and DOlocationid column that is_pick_drop_same because we can conclude one this from t\n",
    "#these two columns that they pick and drop in same location id"
   ]
  },
  {
   "cell_type": "code",
   "execution_count": 138,
   "id": "bcbe15bd",
   "metadata": {},
   "outputs": [],
   "source": [
    "df1['is_pick_drop_same'] = np.where(df1['PULocationID'] == df1['DOLocationID'],1,0)"
   ]
  },
  {
   "cell_type": "code",
   "execution_count": 139,
   "id": "229288fe",
   "metadata": {},
   "outputs": [
    {
     "data": {
      "text/plain": [
       "0    2683056\n",
       "1     154068\n",
       "Name: is_pick_drop_same, dtype: int64"
      ]
     },
     "execution_count": 139,
     "metadata": {},
     "output_type": "execute_result"
    }
   ],
   "source": [
    "df1['is_pick_drop_same'].value_counts()"
   ]
  },
  {
   "cell_type": "code",
   "execution_count": 140,
   "id": "733ccbd9",
   "metadata": {},
   "outputs": [],
   "source": [
    "df1.drop(columns=['PULocationID','DOLocationID'],inplace=True)"
   ]
  },
  {
   "cell_type": "code",
   "execution_count": 141,
   "id": "a3627c5c",
   "metadata": {},
   "outputs": [
    {
     "data": {
      "text/html": [
       "<div>\n",
       "<style scoped>\n",
       "    .dataframe tbody tr th:only-of-type {\n",
       "        vertical-align: middle;\n",
       "    }\n",
       "\n",
       "    .dataframe tbody tr th {\n",
       "        vertical-align: top;\n",
       "    }\n",
       "\n",
       "    .dataframe thead th {\n",
       "        text-align: right;\n",
       "    }\n",
       "</style>\n",
       "<table border=\"1\" class=\"dataframe\">\n",
       "  <thead>\n",
       "    <tr style=\"text-align: right;\">\n",
       "      <th></th>\n",
       "      <th>VendorID</th>\n",
       "      <th>tpep_pickup_datetime</th>\n",
       "      <th>tpep_dropoff_datetime</th>\n",
       "      <th>passenger_count</th>\n",
       "      <th>trip_distance</th>\n",
       "      <th>RatecodeID</th>\n",
       "      <th>store_and_fwd_flag</th>\n",
       "      <th>payment_type</th>\n",
       "      <th>fare_amount</th>\n",
       "      <th>is_pick_drop_same</th>\n",
       "    </tr>\n",
       "  </thead>\n",
       "  <tbody>\n",
       "    <tr>\n",
       "      <th>0</th>\n",
       "      <td>1</td>\n",
       "      <td>2023-02-01 00:32:53</td>\n",
       "      <td>2023-02-01 00:34:34</td>\n",
       "      <td>2.0</td>\n",
       "      <td>0.30</td>\n",
       "      <td>1.0</td>\n",
       "      <td>N</td>\n",
       "      <td>2</td>\n",
       "      <td>4.4</td>\n",
       "      <td>0</td>\n",
       "    </tr>\n",
       "    <tr>\n",
       "      <th>1</th>\n",
       "      <td>2</td>\n",
       "      <td>2023-02-01 00:35:16</td>\n",
       "      <td>2023-02-01 00:35:30</td>\n",
       "      <td>1.0</td>\n",
       "      <td>0.00</td>\n",
       "      <td>1.0</td>\n",
       "      <td>N</td>\n",
       "      <td>4</td>\n",
       "      <td>-3.0</td>\n",
       "      <td>1</td>\n",
       "    </tr>\n",
       "    <tr>\n",
       "      <th>2</th>\n",
       "      <td>2</td>\n",
       "      <td>2023-02-01 00:35:16</td>\n",
       "      <td>2023-02-01 00:35:30</td>\n",
       "      <td>1.0</td>\n",
       "      <td>0.00</td>\n",
       "      <td>1.0</td>\n",
       "      <td>N</td>\n",
       "      <td>4</td>\n",
       "      <td>3.0</td>\n",
       "      <td>1</td>\n",
       "    </tr>\n",
       "    <tr>\n",
       "      <th>3</th>\n",
       "      <td>1</td>\n",
       "      <td>2023-02-01 00:29:33</td>\n",
       "      <td>2023-02-01 01:01:38</td>\n",
       "      <td>0.0</td>\n",
       "      <td>18.80</td>\n",
       "      <td>1.0</td>\n",
       "      <td>N</td>\n",
       "      <td>1</td>\n",
       "      <td>70.9</td>\n",
       "      <td>0</td>\n",
       "    </tr>\n",
       "    <tr>\n",
       "      <th>4</th>\n",
       "      <td>2</td>\n",
       "      <td>2023-02-01 00:12:28</td>\n",
       "      <td>2023-02-01 00:25:46</td>\n",
       "      <td>1.0</td>\n",
       "      <td>3.22</td>\n",
       "      <td>1.0</td>\n",
       "      <td>N</td>\n",
       "      <td>1</td>\n",
       "      <td>17.0</td>\n",
       "      <td>0</td>\n",
       "    </tr>\n",
       "  </tbody>\n",
       "</table>\n",
       "</div>"
      ],
      "text/plain": [
       "   VendorID tpep_pickup_datetime tpep_dropoff_datetime  passenger_count  \\\n",
       "0         1  2023-02-01 00:32:53   2023-02-01 00:34:34              2.0   \n",
       "1         2  2023-02-01 00:35:16   2023-02-01 00:35:30              1.0   \n",
       "2         2  2023-02-01 00:35:16   2023-02-01 00:35:30              1.0   \n",
       "3         1  2023-02-01 00:29:33   2023-02-01 01:01:38              0.0   \n",
       "4         2  2023-02-01 00:12:28   2023-02-01 00:25:46              1.0   \n",
       "\n",
       "   trip_distance  RatecodeID store_and_fwd_flag  payment_type  fare_amount  \\\n",
       "0           0.30         1.0                  N             2          4.4   \n",
       "1           0.00         1.0                  N             4         -3.0   \n",
       "2           0.00         1.0                  N             4          3.0   \n",
       "3          18.80         1.0                  N             1         70.9   \n",
       "4           3.22         1.0                  N             1         17.0   \n",
       "\n",
       "   is_pick_drop_same  \n",
       "0                  0  \n",
       "1                  1  \n",
       "2                  1  \n",
       "3                  0  \n",
       "4                  0  "
      ]
     },
     "execution_count": 141,
     "metadata": {},
     "output_type": "execute_result"
    }
   ],
   "source": [
    "df1.head()"
   ]
  },
  {
   "cell_type": "code",
   "execution_count": 142,
   "id": "bf478ab4",
   "metadata": {},
   "outputs": [
    {
     "data": {
      "text/plain": [
       "1    2309577\n",
       "2     477387\n",
       "4      32060\n",
       "3      18100\n",
       "Name: payment_type, dtype: int64"
      ]
     },
     "execution_count": 142,
     "metadata": {},
     "output_type": "execute_result"
    }
   ],
   "source": [
    "df1['payment_type'].value_counts() # categorical"
   ]
  },
  {
   "cell_type": "code",
   "execution_count": 143,
   "id": "d027ab23",
   "metadata": {},
   "outputs": [
    {
     "data": {
      "text/html": [
       "<div>\n",
       "<style scoped>\n",
       "    .dataframe tbody tr th:only-of-type {\n",
       "        vertical-align: middle;\n",
       "    }\n",
       "\n",
       "    .dataframe tbody tr th {\n",
       "        vertical-align: top;\n",
       "    }\n",
       "\n",
       "    .dataframe thead th {\n",
       "        text-align: right;\n",
       "    }\n",
       "</style>\n",
       "<table border=\"1\" class=\"dataframe\">\n",
       "  <thead>\n",
       "    <tr style=\"text-align: right;\">\n",
       "      <th></th>\n",
       "      <th>VendorID</th>\n",
       "      <th>tpep_pickup_datetime</th>\n",
       "      <th>tpep_dropoff_datetime</th>\n",
       "      <th>passenger_count</th>\n",
       "      <th>trip_distance</th>\n",
       "      <th>RatecodeID</th>\n",
       "      <th>store_and_fwd_flag</th>\n",
       "      <th>payment_type</th>\n",
       "      <th>fare_amount</th>\n",
       "      <th>is_pick_drop_same</th>\n",
       "    </tr>\n",
       "  </thead>\n",
       "  <tbody>\n",
       "    <tr>\n",
       "      <th>0</th>\n",
       "      <td>1</td>\n",
       "      <td>2023-02-01 00:32:53</td>\n",
       "      <td>2023-02-01 00:34:34</td>\n",
       "      <td>2.0</td>\n",
       "      <td>0.30</td>\n",
       "      <td>1.0</td>\n",
       "      <td>N</td>\n",
       "      <td>2</td>\n",
       "      <td>4.4</td>\n",
       "      <td>0</td>\n",
       "    </tr>\n",
       "    <tr>\n",
       "      <th>1</th>\n",
       "      <td>2</td>\n",
       "      <td>2023-02-01 00:35:16</td>\n",
       "      <td>2023-02-01 00:35:30</td>\n",
       "      <td>1.0</td>\n",
       "      <td>0.00</td>\n",
       "      <td>1.0</td>\n",
       "      <td>N</td>\n",
       "      <td>4</td>\n",
       "      <td>-3.0</td>\n",
       "      <td>1</td>\n",
       "    </tr>\n",
       "    <tr>\n",
       "      <th>2</th>\n",
       "      <td>2</td>\n",
       "      <td>2023-02-01 00:35:16</td>\n",
       "      <td>2023-02-01 00:35:30</td>\n",
       "      <td>1.0</td>\n",
       "      <td>0.00</td>\n",
       "      <td>1.0</td>\n",
       "      <td>N</td>\n",
       "      <td>4</td>\n",
       "      <td>3.0</td>\n",
       "      <td>1</td>\n",
       "    </tr>\n",
       "    <tr>\n",
       "      <th>3</th>\n",
       "      <td>1</td>\n",
       "      <td>2023-02-01 00:29:33</td>\n",
       "      <td>2023-02-01 01:01:38</td>\n",
       "      <td>0.0</td>\n",
       "      <td>18.80</td>\n",
       "      <td>1.0</td>\n",
       "      <td>N</td>\n",
       "      <td>1</td>\n",
       "      <td>70.9</td>\n",
       "      <td>0</td>\n",
       "    </tr>\n",
       "    <tr>\n",
       "      <th>4</th>\n",
       "      <td>2</td>\n",
       "      <td>2023-02-01 00:12:28</td>\n",
       "      <td>2023-02-01 00:25:46</td>\n",
       "      <td>1.0</td>\n",
       "      <td>3.22</td>\n",
       "      <td>1.0</td>\n",
       "      <td>N</td>\n",
       "      <td>1</td>\n",
       "      <td>17.0</td>\n",
       "      <td>0</td>\n",
       "    </tr>\n",
       "  </tbody>\n",
       "</table>\n",
       "</div>"
      ],
      "text/plain": [
       "   VendorID tpep_pickup_datetime tpep_dropoff_datetime  passenger_count  \\\n",
       "0         1  2023-02-01 00:32:53   2023-02-01 00:34:34              2.0   \n",
       "1         2  2023-02-01 00:35:16   2023-02-01 00:35:30              1.0   \n",
       "2         2  2023-02-01 00:35:16   2023-02-01 00:35:30              1.0   \n",
       "3         1  2023-02-01 00:29:33   2023-02-01 01:01:38              0.0   \n",
       "4         2  2023-02-01 00:12:28   2023-02-01 00:25:46              1.0   \n",
       "\n",
       "   trip_distance  RatecodeID store_and_fwd_flag  payment_type  fare_amount  \\\n",
       "0           0.30         1.0                  N             2          4.4   \n",
       "1           0.00         1.0                  N             4         -3.0   \n",
       "2           0.00         1.0                  N             4          3.0   \n",
       "3          18.80         1.0                  N             1         70.9   \n",
       "4           3.22         1.0                  N             1         17.0   \n",
       "\n",
       "   is_pick_drop_same  \n",
       "0                  0  \n",
       "1                  1  \n",
       "2                  1  \n",
       "3                  0  \n",
       "4                  0  "
      ]
     },
     "execution_count": 143,
     "metadata": {},
     "output_type": "execute_result"
    }
   ],
   "source": [
    "df1.head()"
   ]
  },
  {
   "cell_type": "code",
   "execution_count": 146,
   "id": "a2e70b9c",
   "metadata": {},
   "outputs": [
    {
     "data": {
      "text/plain": [
       "count    2837124.000000\n",
       "mean          18.172690\n",
       "std           17.601986\n",
       "min         -754.050000\n",
       "10%            6.500000\n",
       "20%            7.900000\n",
       "30%            9.300000\n",
       "50%           12.800000\n",
       "94%           52.000000\n",
       "95%           61.100000\n",
       "96%           70.000000\n",
       "97%           70.000000\n",
       "98%           70.000000\n",
       "99%           71.300000\n",
       "99.9%        135.000000\n",
       "max         2203.100000\n",
       "Name: fare_amount, dtype: object"
      ]
     },
     "execution_count": 146,
     "metadata": {},
     "output_type": "execute_result"
    }
   ],
   "source": [
    "df1['fare_amount'].describe(percentiles=[0.1,0.2,0.3,0.5,0.94,0.95,0.96,0.97,0.98,0.99,0.999]).apply(lambda x: format(x,\"f\"))"
   ]
  },
  {
   "cell_type": "code",
   "execution_count": 147,
   "id": "a347e238",
   "metadata": {},
   "outputs": [
    {
     "data": {
      "text/plain": [
       "(25996, 10)"
      ]
     },
     "execution_count": 147,
     "metadata": {},
     "output_type": "execute_result"
    }
   ],
   "source": [
    "df1[df1['fare_amount']<=2.5].shape"
   ]
  },
  {
   "cell_type": "code",
   "execution_count": 148,
   "id": "4912245c",
   "metadata": {},
   "outputs": [
    {
     "data": {
      "text/plain": [
       "(6991, 10)"
      ]
     },
     "execution_count": 148,
     "metadata": {},
     "output_type": "execute_result"
    }
   ],
   "source": [
    "df1[df1['fare_amount']>=100].shape"
   ]
  },
  {
   "cell_type": "code",
   "execution_count": 149,
   "id": "92024dc1",
   "metadata": {},
   "outputs": [
    {
     "data": {
      "text/html": [
       "<div>\n",
       "<style scoped>\n",
       "    .dataframe tbody tr th:only-of-type {\n",
       "        vertical-align: middle;\n",
       "    }\n",
       "\n",
       "    .dataframe tbody tr th {\n",
       "        vertical-align: top;\n",
       "    }\n",
       "\n",
       "    .dataframe thead th {\n",
       "        text-align: right;\n",
       "    }\n",
       "</style>\n",
       "<table border=\"1\" class=\"dataframe\">\n",
       "  <thead>\n",
       "    <tr style=\"text-align: right;\">\n",
       "      <th></th>\n",
       "      <th>VendorID</th>\n",
       "      <th>tpep_pickup_datetime</th>\n",
       "      <th>tpep_dropoff_datetime</th>\n",
       "      <th>passenger_count</th>\n",
       "      <th>trip_distance</th>\n",
       "      <th>RatecodeID</th>\n",
       "      <th>store_and_fwd_flag</th>\n",
       "      <th>payment_type</th>\n",
       "      <th>fare_amount</th>\n",
       "      <th>is_pick_drop_same</th>\n",
       "    </tr>\n",
       "  </thead>\n",
       "  <tbody>\n",
       "    <tr>\n",
       "      <th>0</th>\n",
       "      <td>1</td>\n",
       "      <td>2023-02-01 00:32:53</td>\n",
       "      <td>2023-02-01 00:34:34</td>\n",
       "      <td>2.0</td>\n",
       "      <td>0.30</td>\n",
       "      <td>1.0</td>\n",
       "      <td>N</td>\n",
       "      <td>2</td>\n",
       "      <td>4.4</td>\n",
       "      <td>0</td>\n",
       "    </tr>\n",
       "    <tr>\n",
       "      <th>1</th>\n",
       "      <td>2</td>\n",
       "      <td>2023-02-01 00:35:16</td>\n",
       "      <td>2023-02-01 00:35:30</td>\n",
       "      <td>1.0</td>\n",
       "      <td>0.00</td>\n",
       "      <td>1.0</td>\n",
       "      <td>N</td>\n",
       "      <td>4</td>\n",
       "      <td>-3.0</td>\n",
       "      <td>1</td>\n",
       "    </tr>\n",
       "    <tr>\n",
       "      <th>2</th>\n",
       "      <td>2</td>\n",
       "      <td>2023-02-01 00:35:16</td>\n",
       "      <td>2023-02-01 00:35:30</td>\n",
       "      <td>1.0</td>\n",
       "      <td>0.00</td>\n",
       "      <td>1.0</td>\n",
       "      <td>N</td>\n",
       "      <td>4</td>\n",
       "      <td>3.0</td>\n",
       "      <td>1</td>\n",
       "    </tr>\n",
       "    <tr>\n",
       "      <th>3</th>\n",
       "      <td>1</td>\n",
       "      <td>2023-02-01 00:29:33</td>\n",
       "      <td>2023-02-01 01:01:38</td>\n",
       "      <td>0.0</td>\n",
       "      <td>18.80</td>\n",
       "      <td>1.0</td>\n",
       "      <td>N</td>\n",
       "      <td>1</td>\n",
       "      <td>70.9</td>\n",
       "      <td>0</td>\n",
       "    </tr>\n",
       "    <tr>\n",
       "      <th>4</th>\n",
       "      <td>2</td>\n",
       "      <td>2023-02-01 00:12:28</td>\n",
       "      <td>2023-02-01 00:25:46</td>\n",
       "      <td>1.0</td>\n",
       "      <td>3.22</td>\n",
       "      <td>1.0</td>\n",
       "      <td>N</td>\n",
       "      <td>1</td>\n",
       "      <td>17.0</td>\n",
       "      <td>0</td>\n",
       "    </tr>\n",
       "  </tbody>\n",
       "</table>\n",
       "</div>"
      ],
      "text/plain": [
       "   VendorID tpep_pickup_datetime tpep_dropoff_datetime  passenger_count  \\\n",
       "0         1  2023-02-01 00:32:53   2023-02-01 00:34:34              2.0   \n",
       "1         2  2023-02-01 00:35:16   2023-02-01 00:35:30              1.0   \n",
       "2         2  2023-02-01 00:35:16   2023-02-01 00:35:30              1.0   \n",
       "3         1  2023-02-01 00:29:33   2023-02-01 01:01:38              0.0   \n",
       "4         2  2023-02-01 00:12:28   2023-02-01 00:25:46              1.0   \n",
       "\n",
       "   trip_distance  RatecodeID store_and_fwd_flag  payment_type  fare_amount  \\\n",
       "0           0.30         1.0                  N             2          4.4   \n",
       "1           0.00         1.0                  N             4         -3.0   \n",
       "2           0.00         1.0                  N             4          3.0   \n",
       "3          18.80         1.0                  N             1         70.9   \n",
       "4           3.22         1.0                  N             1         17.0   \n",
       "\n",
       "   is_pick_drop_same  \n",
       "0                  0  \n",
       "1                  1  \n",
       "2                  1  \n",
       "3                  0  \n",
       "4                  0  "
      ]
     },
     "execution_count": 149,
     "metadata": {},
     "output_type": "execute_result"
    }
   ],
   "source": [
    "df1.head()"
   ]
  },
  {
   "cell_type": "code",
   "execution_count": 150,
   "id": "dec3ae87",
   "metadata": {},
   "outputs": [],
   "source": [
    "df2 = df1[(df1['fare_amount']>=2.5) & (df1['fare_amount']<=100)]"
   ]
  },
  {
   "cell_type": "code",
   "execution_count": 151,
   "id": "9a6246fd",
   "metadata": {},
   "outputs": [
    {
     "data": {
      "text/plain": [
       "(2804572, 10)"
      ]
     },
     "execution_count": 151,
     "metadata": {},
     "output_type": "execute_result"
    }
   ],
   "source": [
    "df2.shape"
   ]
  },
  {
   "cell_type": "code",
   "execution_count": 152,
   "id": "1b86f544",
   "metadata": {},
   "outputs": [
    {
     "data": {
      "text/plain": [
       "(2837124, 10)"
      ]
     },
     "execution_count": 152,
     "metadata": {},
     "output_type": "execute_result"
    }
   ],
   "source": [
    "df1.shape"
   ]
  },
  {
   "cell_type": "code",
   "execution_count": 153,
   "id": "e1225c4e",
   "metadata": {},
   "outputs": [
    {
     "data": {
      "text/html": [
       "<div>\n",
       "<style scoped>\n",
       "    .dataframe tbody tr th:only-of-type {\n",
       "        vertical-align: middle;\n",
       "    }\n",
       "\n",
       "    .dataframe tbody tr th {\n",
       "        vertical-align: top;\n",
       "    }\n",
       "\n",
       "    .dataframe thead th {\n",
       "        text-align: right;\n",
       "    }\n",
       "</style>\n",
       "<table border=\"1\" class=\"dataframe\">\n",
       "  <thead>\n",
       "    <tr style=\"text-align: right;\">\n",
       "      <th></th>\n",
       "      <th>VendorID</th>\n",
       "      <th>tpep_pickup_datetime</th>\n",
       "      <th>tpep_dropoff_datetime</th>\n",
       "      <th>passenger_count</th>\n",
       "      <th>trip_distance</th>\n",
       "      <th>RatecodeID</th>\n",
       "      <th>store_and_fwd_flag</th>\n",
       "      <th>payment_type</th>\n",
       "      <th>fare_amount</th>\n",
       "      <th>is_pick_drop_same</th>\n",
       "    </tr>\n",
       "  </thead>\n",
       "  <tbody>\n",
       "    <tr>\n",
       "      <th>0</th>\n",
       "      <td>1</td>\n",
       "      <td>2023-02-01 00:32:53</td>\n",
       "      <td>2023-02-01 00:34:34</td>\n",
       "      <td>2.0</td>\n",
       "      <td>0.30</td>\n",
       "      <td>1.0</td>\n",
       "      <td>N</td>\n",
       "      <td>2</td>\n",
       "      <td>4.4</td>\n",
       "      <td>0</td>\n",
       "    </tr>\n",
       "    <tr>\n",
       "      <th>2</th>\n",
       "      <td>2</td>\n",
       "      <td>2023-02-01 00:35:16</td>\n",
       "      <td>2023-02-01 00:35:30</td>\n",
       "      <td>1.0</td>\n",
       "      <td>0.00</td>\n",
       "      <td>1.0</td>\n",
       "      <td>N</td>\n",
       "      <td>4</td>\n",
       "      <td>3.0</td>\n",
       "      <td>1</td>\n",
       "    </tr>\n",
       "    <tr>\n",
       "      <th>3</th>\n",
       "      <td>1</td>\n",
       "      <td>2023-02-01 00:29:33</td>\n",
       "      <td>2023-02-01 01:01:38</td>\n",
       "      <td>0.0</td>\n",
       "      <td>18.80</td>\n",
       "      <td>1.0</td>\n",
       "      <td>N</td>\n",
       "      <td>1</td>\n",
       "      <td>70.9</td>\n",
       "      <td>0</td>\n",
       "    </tr>\n",
       "    <tr>\n",
       "      <th>4</th>\n",
       "      <td>2</td>\n",
       "      <td>2023-02-01 00:12:28</td>\n",
       "      <td>2023-02-01 00:25:46</td>\n",
       "      <td>1.0</td>\n",
       "      <td>3.22</td>\n",
       "      <td>1.0</td>\n",
       "      <td>N</td>\n",
       "      <td>1</td>\n",
       "      <td>17.0</td>\n",
       "      <td>0</td>\n",
       "    </tr>\n",
       "    <tr>\n",
       "      <th>5</th>\n",
       "      <td>1</td>\n",
       "      <td>2023-02-01 00:52:40</td>\n",
       "      <td>2023-02-01 01:07:18</td>\n",
       "      <td>1.0</td>\n",
       "      <td>5.10</td>\n",
       "      <td>1.0</td>\n",
       "      <td>N</td>\n",
       "      <td>1</td>\n",
       "      <td>21.9</td>\n",
       "      <td>0</td>\n",
       "    </tr>\n",
       "  </tbody>\n",
       "</table>\n",
       "</div>"
      ],
      "text/plain": [
       "   VendorID tpep_pickup_datetime tpep_dropoff_datetime  passenger_count  \\\n",
       "0         1  2023-02-01 00:32:53   2023-02-01 00:34:34              2.0   \n",
       "2         2  2023-02-01 00:35:16   2023-02-01 00:35:30              1.0   \n",
       "3         1  2023-02-01 00:29:33   2023-02-01 01:01:38              0.0   \n",
       "4         2  2023-02-01 00:12:28   2023-02-01 00:25:46              1.0   \n",
       "5         1  2023-02-01 00:52:40   2023-02-01 01:07:18              1.0   \n",
       "\n",
       "   trip_distance  RatecodeID store_and_fwd_flag  payment_type  fare_amount  \\\n",
       "0           0.30         1.0                  N             2          4.4   \n",
       "2           0.00         1.0                  N             4          3.0   \n",
       "3          18.80         1.0                  N             1         70.9   \n",
       "4           3.22         1.0                  N             1         17.0   \n",
       "5           5.10         1.0                  N             1         21.9   \n",
       "\n",
       "   is_pick_drop_same  \n",
       "0                  0  \n",
       "2                  1  \n",
       "3                  0  \n",
       "4                  0  \n",
       "5                  0  "
      ]
     },
     "execution_count": 153,
     "metadata": {},
     "output_type": "execute_result"
    }
   ],
   "source": [
    "df2.head()"
   ]
  },
  {
   "cell_type": "markdown",
   "id": "ca818db9",
   "metadata": {},
   "source": [
    "1. time duration\n",
    "2. peak hours\n",
    "3. peak days\n",
    "4. is weekend?\n",
    "5. end of month\n",
    "6. start of month\n",
    "7. mid_of_month\n",
    "8. start ,mid and end week\n",
    "9. is holiday?\n",
    "10. hour of pick time (morning , afternoon,evening,late night,early morning)\n",
    "11. which quarter\n",
    "12. which month"
   ]
  },
  {
   "cell_type": "code",
   "execution_count": 38,
   "id": "e254010b",
   "metadata": {},
   "outputs": [
    {
     "data": {
      "text/plain": [
       "Timestamp('2008-12-31 23:05:06')"
      ]
     },
     "execution_count": 38,
     "metadata": {},
     "output_type": "execute_result"
    }
   ],
   "source": [
    "df2['tpep_pickup_datetime'].min()"
   ]
  },
  {
   "cell_type": "code",
   "execution_count": 39,
   "id": "a25ca492",
   "metadata": {},
   "outputs": [
    {
     "data": {
      "text/plain": [
       "Timestamp('2023-03-07 13:01:28')"
      ]
     },
     "execution_count": 39,
     "metadata": {},
     "output_type": "execute_result"
    }
   ],
   "source": [
    "df2['tpep_pickup_datetime'].max()"
   ]
  },
  {
   "cell_type": "code",
   "execution_count": 40,
   "id": "3a2ac728",
   "metadata": {},
   "outputs": [
    {
     "data": {
      "text/plain": [
       "Timestamp('2008-12-31 23:31:24')"
      ]
     },
     "execution_count": 40,
     "metadata": {},
     "output_type": "execute_result"
    }
   ],
   "source": [
    "df2['tpep_dropoff_datetime'].min()"
   ]
  },
  {
   "cell_type": "code",
   "execution_count": 41,
   "id": "9757bbfd",
   "metadata": {},
   "outputs": [
    {
     "data": {
      "text/plain": [
       "Timestamp('2023-03-07 13:11:17')"
      ]
     },
     "execution_count": 41,
     "metadata": {},
     "output_type": "execute_result"
    }
   ],
   "source": [
    "df2['tpep_dropoff_datetime'].max()"
   ]
  },
  {
   "cell_type": "code",
   "execution_count": 154,
   "id": "812c1576",
   "metadata": {},
   "outputs": [
    {
     "data": {
      "text/html": [
       "<div>\n",
       "<style scoped>\n",
       "    .dataframe tbody tr th:only-of-type {\n",
       "        vertical-align: middle;\n",
       "    }\n",
       "\n",
       "    .dataframe tbody tr th {\n",
       "        vertical-align: top;\n",
       "    }\n",
       "\n",
       "    .dataframe thead th {\n",
       "        text-align: right;\n",
       "    }\n",
       "</style>\n",
       "<table border=\"1\" class=\"dataframe\">\n",
       "  <thead>\n",
       "    <tr style=\"text-align: right;\">\n",
       "      <th></th>\n",
       "      <th>VendorID</th>\n",
       "      <th>tpep_pickup_datetime</th>\n",
       "      <th>tpep_dropoff_datetime</th>\n",
       "      <th>passenger_count</th>\n",
       "      <th>trip_distance</th>\n",
       "      <th>RatecodeID</th>\n",
       "      <th>store_and_fwd_flag</th>\n",
       "      <th>payment_type</th>\n",
       "      <th>fare_amount</th>\n",
       "      <th>is_pick_drop_same</th>\n",
       "    </tr>\n",
       "  </thead>\n",
       "  <tbody>\n",
       "    <tr>\n",
       "      <th>1312010</th>\n",
       "      <td>2</td>\n",
       "      <td>2009-01-01 00:05:14</td>\n",
       "      <td>2009-01-01 00:14:09</td>\n",
       "      <td>1.0</td>\n",
       "      <td>1.92</td>\n",
       "      <td>1.0</td>\n",
       "      <td>N</td>\n",
       "      <td>2</td>\n",
       "      <td>11.4</td>\n",
       "      <td>0</td>\n",
       "    </tr>\n",
       "    <tr>\n",
       "      <th>1387271</th>\n",
       "      <td>2</td>\n",
       "      <td>2008-12-31 23:43:40</td>\n",
       "      <td>2008-12-31 23:53:59</td>\n",
       "      <td>1.0</td>\n",
       "      <td>1.66</td>\n",
       "      <td>1.0</td>\n",
       "      <td>N</td>\n",
       "      <td>2</td>\n",
       "      <td>12.1</td>\n",
       "      <td>0</td>\n",
       "    </tr>\n",
       "    <tr>\n",
       "      <th>2638356</th>\n",
       "      <td>2</td>\n",
       "      <td>2008-12-31 23:05:06</td>\n",
       "      <td>2009-01-01 21:05:13</td>\n",
       "      <td>1.0</td>\n",
       "      <td>3.04</td>\n",
       "      <td>1.0</td>\n",
       "      <td>N</td>\n",
       "      <td>1</td>\n",
       "      <td>17.0</td>\n",
       "      <td>0</td>\n",
       "    </tr>\n",
       "    <tr>\n",
       "      <th>2661017</th>\n",
       "      <td>2</td>\n",
       "      <td>2008-12-31 23:11:10</td>\n",
       "      <td>2009-01-01 08:14:17</td>\n",
       "      <td>1.0</td>\n",
       "      <td>2.95</td>\n",
       "      <td>1.0</td>\n",
       "      <td>N</td>\n",
       "      <td>2</td>\n",
       "      <td>13.5</td>\n",
       "      <td>0</td>\n",
       "    </tr>\n",
       "    <tr>\n",
       "      <th>2725408</th>\n",
       "      <td>2</td>\n",
       "      <td>2008-12-31 23:06:21</td>\n",
       "      <td>2008-12-31 23:31:24</td>\n",
       "      <td>1.0</td>\n",
       "      <td>10.13</td>\n",
       "      <td>1.0</td>\n",
       "      <td>N</td>\n",
       "      <td>2</td>\n",
       "      <td>39.4</td>\n",
       "      <td>0</td>\n",
       "    </tr>\n",
       "  </tbody>\n",
       "</table>\n",
       "</div>"
      ],
      "text/plain": [
       "         VendorID tpep_pickup_datetime tpep_dropoff_datetime  passenger_count  \\\n",
       "1312010         2  2009-01-01 00:05:14   2009-01-01 00:14:09              1.0   \n",
       "1387271         2  2008-12-31 23:43:40   2008-12-31 23:53:59              1.0   \n",
       "2638356         2  2008-12-31 23:05:06   2009-01-01 21:05:13              1.0   \n",
       "2661017         2  2008-12-31 23:11:10   2009-01-01 08:14:17              1.0   \n",
       "2725408         2  2008-12-31 23:06:21   2008-12-31 23:31:24              1.0   \n",
       "\n",
       "         trip_distance  RatecodeID store_and_fwd_flag  payment_type  \\\n",
       "1312010           1.92         1.0                  N             2   \n",
       "1387271           1.66         1.0                  N             2   \n",
       "2638356           3.04         1.0                  N             1   \n",
       "2661017           2.95         1.0                  N             2   \n",
       "2725408          10.13         1.0                  N             2   \n",
       "\n",
       "         fare_amount  is_pick_drop_same  \n",
       "1312010         11.4                  0  \n",
       "1387271         12.1                  0  \n",
       "2638356         17.0                  0  \n",
       "2661017         13.5                  0  \n",
       "2725408         39.4                  0  "
      ]
     },
     "execution_count": 154,
     "metadata": {},
     "output_type": "execute_result"
    }
   ],
   "source": [
    "df2[df2['tpep_pickup_datetime'].dt.year < 2023] # dt here convert into date then we fetch year"
   ]
  },
  {
   "cell_type": "code",
   "execution_count": 155,
   "id": "2e38ae54",
   "metadata": {},
   "outputs": [
    {
     "data": {
      "text/plain": [
       "(42, 10)"
      ]
     },
     "execution_count": 155,
     "metadata": {},
     "output_type": "execute_result"
    }
   ],
   "source": [
    "df2[df2['tpep_pickup_datetime'].dt.month == 3].shape"
   ]
  },
  {
   "cell_type": "code",
   "execution_count": 156,
   "id": "42a6b218",
   "metadata": {},
   "outputs": [],
   "source": [
    "df3 = df2[df2['tpep_pickup_datetime'].dt.month == 2]"
   ]
  },
  {
   "cell_type": "code",
   "execution_count": 157,
   "id": "0489eee9",
   "metadata": {},
   "outputs": [
    {
     "data": {
      "text/html": [
       "<div>\n",
       "<style scoped>\n",
       "    .dataframe tbody tr th:only-of-type {\n",
       "        vertical-align: middle;\n",
       "    }\n",
       "\n",
       "    .dataframe tbody tr th {\n",
       "        vertical-align: top;\n",
       "    }\n",
       "\n",
       "    .dataframe thead th {\n",
       "        text-align: right;\n",
       "    }\n",
       "</style>\n",
       "<table border=\"1\" class=\"dataframe\">\n",
       "  <thead>\n",
       "    <tr style=\"text-align: right;\">\n",
       "      <th></th>\n",
       "      <th>VendorID</th>\n",
       "      <th>tpep_pickup_datetime</th>\n",
       "      <th>tpep_dropoff_datetime</th>\n",
       "      <th>passenger_count</th>\n",
       "      <th>trip_distance</th>\n",
       "      <th>RatecodeID</th>\n",
       "      <th>store_and_fwd_flag</th>\n",
       "      <th>payment_type</th>\n",
       "      <th>fare_amount</th>\n",
       "      <th>is_pick_drop_same</th>\n",
       "    </tr>\n",
       "  </thead>\n",
       "  <tbody>\n",
       "    <tr>\n",
       "      <th>0</th>\n",
       "      <td>1</td>\n",
       "      <td>2023-02-01 00:32:53</td>\n",
       "      <td>2023-02-01 00:34:34</td>\n",
       "      <td>2.0</td>\n",
       "      <td>0.30</td>\n",
       "      <td>1.0</td>\n",
       "      <td>N</td>\n",
       "      <td>2</td>\n",
       "      <td>4.4</td>\n",
       "      <td>0</td>\n",
       "    </tr>\n",
       "    <tr>\n",
       "      <th>2</th>\n",
       "      <td>2</td>\n",
       "      <td>2023-02-01 00:35:16</td>\n",
       "      <td>2023-02-01 00:35:30</td>\n",
       "      <td>1.0</td>\n",
       "      <td>0.00</td>\n",
       "      <td>1.0</td>\n",
       "      <td>N</td>\n",
       "      <td>4</td>\n",
       "      <td>3.0</td>\n",
       "      <td>1</td>\n",
       "    </tr>\n",
       "    <tr>\n",
       "      <th>3</th>\n",
       "      <td>1</td>\n",
       "      <td>2023-02-01 00:29:33</td>\n",
       "      <td>2023-02-01 01:01:38</td>\n",
       "      <td>0.0</td>\n",
       "      <td>18.80</td>\n",
       "      <td>1.0</td>\n",
       "      <td>N</td>\n",
       "      <td>1</td>\n",
       "      <td>70.9</td>\n",
       "      <td>0</td>\n",
       "    </tr>\n",
       "    <tr>\n",
       "      <th>4</th>\n",
       "      <td>2</td>\n",
       "      <td>2023-02-01 00:12:28</td>\n",
       "      <td>2023-02-01 00:25:46</td>\n",
       "      <td>1.0</td>\n",
       "      <td>3.22</td>\n",
       "      <td>1.0</td>\n",
       "      <td>N</td>\n",
       "      <td>1</td>\n",
       "      <td>17.0</td>\n",
       "      <td>0</td>\n",
       "    </tr>\n",
       "    <tr>\n",
       "      <th>5</th>\n",
       "      <td>1</td>\n",
       "      <td>2023-02-01 00:52:40</td>\n",
       "      <td>2023-02-01 01:07:18</td>\n",
       "      <td>1.0</td>\n",
       "      <td>5.10</td>\n",
       "      <td>1.0</td>\n",
       "      <td>N</td>\n",
       "      <td>1</td>\n",
       "      <td>21.9</td>\n",
       "      <td>0</td>\n",
       "    </tr>\n",
       "  </tbody>\n",
       "</table>\n",
       "</div>"
      ],
      "text/plain": [
       "   VendorID tpep_pickup_datetime tpep_dropoff_datetime  passenger_count  \\\n",
       "0         1  2023-02-01 00:32:53   2023-02-01 00:34:34              2.0   \n",
       "2         2  2023-02-01 00:35:16   2023-02-01 00:35:30              1.0   \n",
       "3         1  2023-02-01 00:29:33   2023-02-01 01:01:38              0.0   \n",
       "4         2  2023-02-01 00:12:28   2023-02-01 00:25:46              1.0   \n",
       "5         1  2023-02-01 00:52:40   2023-02-01 01:07:18              1.0   \n",
       "\n",
       "   trip_distance  RatecodeID store_and_fwd_flag  payment_type  fare_amount  \\\n",
       "0           0.30         1.0                  N             2          4.4   \n",
       "2           0.00         1.0                  N             4          3.0   \n",
       "3          18.80         1.0                  N             1         70.9   \n",
       "4           3.22         1.0                  N             1         17.0   \n",
       "5           5.10         1.0                  N             1         21.9   \n",
       "\n",
       "   is_pick_drop_same  \n",
       "0                  0  \n",
       "2                  1  \n",
       "3                  0  \n",
       "4                  0  \n",
       "5                  0  "
      ]
     },
     "execution_count": 157,
     "metadata": {},
     "output_type": "execute_result"
    }
   ],
   "source": [
    "df3.head()"
   ]
  },
  {
   "cell_type": "code",
   "execution_count": 158,
   "id": "2e2e9b16",
   "metadata": {},
   "outputs": [
    {
     "data": {
      "text/plain": [
       "VendorID                          int32\n",
       "tpep_pickup_datetime     datetime64[ns]\n",
       "tpep_dropoff_datetime    datetime64[ns]\n",
       "passenger_count                 float64\n",
       "trip_distance                   float64\n",
       "RatecodeID                      float64\n",
       "store_and_fwd_flag               object\n",
       "payment_type                      int64\n",
       "fare_amount                     float64\n",
       "is_pick_drop_same                 int32\n",
       "dtype: object"
      ]
     },
     "execution_count": 158,
     "metadata": {},
     "output_type": "execute_result"
    }
   ],
   "source": [
    "df3.dtypes"
   ]
  },
  {
   "cell_type": "code",
   "execution_count": 159,
   "id": "75d92c15",
   "metadata": {},
   "outputs": [],
   "source": [
    "df4 = df3[df3['tpep_pickup_datetime'].dt.year == 2023]"
   ]
  },
  {
   "cell_type": "code",
   "execution_count": 160,
   "id": "3ae4df2a",
   "metadata": {},
   "outputs": [
    {
     "data": {
      "text/plain": [
       "Timestamp('2023-02-01 00:03:10')"
      ]
     },
     "execution_count": 160,
     "metadata": {},
     "output_type": "execute_result"
    }
   ],
   "source": [
    "df4['tpep_dropoff_datetime'].min()"
   ]
  },
  {
   "cell_type": "code",
   "execution_count": 161,
   "id": "a3f8f52e",
   "metadata": {},
   "outputs": [],
   "source": [
    "import datetime"
   ]
  },
  {
   "cell_type": "code",
   "execution_count": 162,
   "id": "c4c4d4dc",
   "metadata": {},
   "outputs": [],
   "source": [
    "df4['tpep_pickup_datetime'] = pd.to_datetime(df4['tpep_pickup_datetime'],errors ='coerce')\n",
    "df4['tpep_dropoff_datetime'] = pd.to_datetime(df4['tpep_dropoff_datetime'],errors='coerce')"
   ]
  },
  {
   "cell_type": "code",
   "execution_count": 163,
   "id": "1bccc710",
   "metadata": {},
   "outputs": [],
   "source": [
    "df4[\"duration_min\"]=(df4[\"tpep_dropoff_datetime\"]-df4[\"tpep_pickup_datetime\"]) / pd.Timedelta(minutes=1)\n",
    "df4[\"duration_hours\"]=(df4[\"tpep_dropoff_datetime\"]-df4[\"tpep_pickup_datetime\"]) / pd.Timedelta(hours=1)"
   ]
  },
  {
   "cell_type": "code",
   "execution_count": 164,
   "id": "62e27a31",
   "metadata": {},
   "outputs": [
    {
     "data": {
      "text/plain": [
       "count    2804517.000000\n",
       "mean          15.895122\n",
       "std           43.232938\n",
       "min          -43.616667\n",
       "1%             1.216667\n",
       "5%             3.383333\n",
       "10%            4.566667\n",
       "20%            6.383333\n",
       "30%            8.066667\n",
       "40%            9.800000\n",
       "50%           11.700000\n",
       "60%           13.933333\n",
       "70%           16.750000\n",
       "80%           20.800000\n",
       "90%           28.150000\n",
       "95%           36.700000\n",
       "96%           39.733333\n",
       "97%           43.683333\n",
       "98%           49.083333\n",
       "99%           57.716667\n",
       "99.9%        210.487733\n",
       "max         7053.616667\n",
       "Name: duration_min, dtype: object"
      ]
     },
     "execution_count": 164,
     "metadata": {},
     "output_type": "execute_result"
    }
   ],
   "source": [
    "df4[\"duration_min\"].describe(percentiles=[0.01,.05,.1,.2,.3,.4,.5,.6,.7,.8,.9,.95,.96,.97,.98,.99,.999]).apply(lambda x: format(x,\"f\"))"
   ]
  },
  {
   "cell_type": "code",
   "execution_count": 165,
   "id": "24a8f577",
   "metadata": {},
   "outputs": [
    {
     "data": {
      "text/plain": [
       "count    2804517.000000\n",
       "mean           0.264919\n",
       "std            0.720549\n",
       "min           -0.726944\n",
       "1%             0.020278\n",
       "5%             0.056389\n",
       "10%            0.076111\n",
       "20%            0.106389\n",
       "30%            0.134444\n",
       "40%            0.163333\n",
       "50%            0.195000\n",
       "95%            0.611667\n",
       "96%            0.662222\n",
       "97%            0.728056\n",
       "98%            0.818056\n",
       "99%            0.961944\n",
       "99.9%          3.508129\n",
       "max          117.560278\n",
       "Name: duration_hours, dtype: object"
      ]
     },
     "execution_count": 165,
     "metadata": {},
     "output_type": "execute_result"
    }
   ],
   "source": [
    "df4[\"duration_hours\"].describe(percentiles=[0.01,0.05,0.1,0.2,0.3,0.4,0.95,0.96,0.97,0.98,0.99,0.999]).apply(lambda x: format(x,\"f\"))"
   ]
  },
  {
   "cell_type": "code",
   "execution_count": 166,
   "id": "50df40bb",
   "metadata": {},
   "outputs": [
    {
     "data": {
      "text/plain": [
       "(1, 12)"
      ]
     },
     "execution_count": 166,
     "metadata": {},
     "output_type": "execute_result"
    }
   ],
   "source": [
    "df4[df4['duration_hours']>100].shape"
   ]
  },
  {
   "cell_type": "code",
   "execution_count": 167,
   "id": "9603081a",
   "metadata": {},
   "outputs": [
    {
     "data": {
      "text/plain": [
       "(2325, 12)"
      ]
     },
     "execution_count": 167,
     "metadata": {},
     "output_type": "execute_result"
    }
   ],
   "source": [
    "df4[df4['duration_hours']>20].shape"
   ]
  },
  {
   "cell_type": "code",
   "execution_count": 168,
   "id": "7679964e",
   "metadata": {},
   "outputs": [
    {
     "data": {
      "text/plain": [
       "(877, 12)"
      ]
     },
     "execution_count": 168,
     "metadata": {},
     "output_type": "execute_result"
    }
   ],
   "source": [
    "df4[df4['duration_hours']<=0].shape"
   ]
  },
  {
   "cell_type": "code",
   "execution_count": 169,
   "id": "c37a3385",
   "metadata": {},
   "outputs": [],
   "source": [
    "df5 =df4[(df4['duration_min']>0)]"
   ]
  },
  {
   "cell_type": "code",
   "execution_count": 171,
   "id": "77d0910c",
   "metadata": {},
   "outputs": [],
   "source": [
    "df6 =df5[(df5['duration_min']<=500)]"
   ]
  },
  {
   "cell_type": "code",
   "execution_count": 172,
   "id": "02e900cb",
   "metadata": {},
   "outputs": [
    {
     "data": {
      "text/html": [
       "<div>\n",
       "<style scoped>\n",
       "    .dataframe tbody tr th:only-of-type {\n",
       "        vertical-align: middle;\n",
       "    }\n",
       "\n",
       "    .dataframe tbody tr th {\n",
       "        vertical-align: top;\n",
       "    }\n",
       "\n",
       "    .dataframe thead th {\n",
       "        text-align: right;\n",
       "    }\n",
       "</style>\n",
       "<table border=\"1\" class=\"dataframe\">\n",
       "  <thead>\n",
       "    <tr style=\"text-align: right;\">\n",
       "      <th></th>\n",
       "      <th>VendorID</th>\n",
       "      <th>tpep_pickup_datetime</th>\n",
       "      <th>tpep_dropoff_datetime</th>\n",
       "      <th>passenger_count</th>\n",
       "      <th>trip_distance</th>\n",
       "      <th>RatecodeID</th>\n",
       "      <th>store_and_fwd_flag</th>\n",
       "      <th>payment_type</th>\n",
       "      <th>fare_amount</th>\n",
       "      <th>is_pick_drop_same</th>\n",
       "      <th>duration_min</th>\n",
       "      <th>duration_hours</th>\n",
       "    </tr>\n",
       "  </thead>\n",
       "  <tbody>\n",
       "    <tr>\n",
       "      <th>0</th>\n",
       "      <td>1</td>\n",
       "      <td>2023-02-01 00:32:53</td>\n",
       "      <td>2023-02-01 00:34:34</td>\n",
       "      <td>2.0</td>\n",
       "      <td>0.30</td>\n",
       "      <td>1.0</td>\n",
       "      <td>N</td>\n",
       "      <td>2</td>\n",
       "      <td>4.4</td>\n",
       "      <td>0</td>\n",
       "      <td>1.683333</td>\n",
       "      <td>0.028056</td>\n",
       "    </tr>\n",
       "    <tr>\n",
       "      <th>2</th>\n",
       "      <td>2</td>\n",
       "      <td>2023-02-01 00:35:16</td>\n",
       "      <td>2023-02-01 00:35:30</td>\n",
       "      <td>1.0</td>\n",
       "      <td>0.00</td>\n",
       "      <td>1.0</td>\n",
       "      <td>N</td>\n",
       "      <td>4</td>\n",
       "      <td>3.0</td>\n",
       "      <td>1</td>\n",
       "      <td>0.233333</td>\n",
       "      <td>0.003889</td>\n",
       "    </tr>\n",
       "    <tr>\n",
       "      <th>3</th>\n",
       "      <td>1</td>\n",
       "      <td>2023-02-01 00:29:33</td>\n",
       "      <td>2023-02-01 01:01:38</td>\n",
       "      <td>0.0</td>\n",
       "      <td>18.80</td>\n",
       "      <td>1.0</td>\n",
       "      <td>N</td>\n",
       "      <td>1</td>\n",
       "      <td>70.9</td>\n",
       "      <td>0</td>\n",
       "      <td>32.083333</td>\n",
       "      <td>0.534722</td>\n",
       "    </tr>\n",
       "    <tr>\n",
       "      <th>4</th>\n",
       "      <td>2</td>\n",
       "      <td>2023-02-01 00:12:28</td>\n",
       "      <td>2023-02-01 00:25:46</td>\n",
       "      <td>1.0</td>\n",
       "      <td>3.22</td>\n",
       "      <td>1.0</td>\n",
       "      <td>N</td>\n",
       "      <td>1</td>\n",
       "      <td>17.0</td>\n",
       "      <td>0</td>\n",
       "      <td>13.300000</td>\n",
       "      <td>0.221667</td>\n",
       "    </tr>\n",
       "    <tr>\n",
       "      <th>5</th>\n",
       "      <td>1</td>\n",
       "      <td>2023-02-01 00:52:40</td>\n",
       "      <td>2023-02-01 01:07:18</td>\n",
       "      <td>1.0</td>\n",
       "      <td>5.10</td>\n",
       "      <td>1.0</td>\n",
       "      <td>N</td>\n",
       "      <td>1</td>\n",
       "      <td>21.9</td>\n",
       "      <td>0</td>\n",
       "      <td>14.633333</td>\n",
       "      <td>0.243889</td>\n",
       "    </tr>\n",
       "  </tbody>\n",
       "</table>\n",
       "</div>"
      ],
      "text/plain": [
       "   VendorID tpep_pickup_datetime tpep_dropoff_datetime  passenger_count  \\\n",
       "0         1  2023-02-01 00:32:53   2023-02-01 00:34:34              2.0   \n",
       "2         2  2023-02-01 00:35:16   2023-02-01 00:35:30              1.0   \n",
       "3         1  2023-02-01 00:29:33   2023-02-01 01:01:38              0.0   \n",
       "4         2  2023-02-01 00:12:28   2023-02-01 00:25:46              1.0   \n",
       "5         1  2023-02-01 00:52:40   2023-02-01 01:07:18              1.0   \n",
       "\n",
       "   trip_distance  RatecodeID store_and_fwd_flag  payment_type  fare_amount  \\\n",
       "0           0.30         1.0                  N             2          4.4   \n",
       "2           0.00         1.0                  N             4          3.0   \n",
       "3          18.80         1.0                  N             1         70.9   \n",
       "4           3.22         1.0                  N             1         17.0   \n",
       "5           5.10         1.0                  N             1         21.9   \n",
       "\n",
       "   is_pick_drop_same  duration_min  duration_hours  \n",
       "0                  0      1.683333        0.028056  \n",
       "2                  1      0.233333        0.003889  \n",
       "3                  0     32.083333        0.534722  \n",
       "4                  0     13.300000        0.221667  \n",
       "5                  0     14.633333        0.243889  "
      ]
     },
     "execution_count": 172,
     "metadata": {},
     "output_type": "execute_result"
    }
   ],
   "source": [
    "df6.head(5)"
   ]
  },
  {
   "cell_type": "code",
   "execution_count": 173,
   "id": "ce1e480e",
   "metadata": {},
   "outputs": [
    {
     "name": "stderr",
     "output_type": "stream",
     "text": [
      "C:\\Users\\Vivek\\AppData\\Local\\Temp/ipykernel_7728/4176240041.py:1: SettingWithCopyWarning: \n",
      "A value is trying to be set on a copy of a slice from a DataFrame.\n",
      "Try using .loc[row_indexer,col_indexer] = value instead\n",
      "\n",
      "See the caveats in the documentation: https://pandas.pydata.org/pandas-docs/stable/user_guide/indexing.html#returning-a-view-versus-a-copy\n",
      "  df6['pick_up_hour'] = df6['tpep_pickup_datetime'].dt.hour\n"
     ]
    }
   ],
   "source": [
    "df6['pick_up_hour'] = df6['tpep_pickup_datetime'].dt.hour"
   ]
  },
  {
   "cell_type": "code",
   "execution_count": 175,
   "id": "075df7b3",
   "metadata": {},
   "outputs": [
    {
     "data": {
      "text/html": [
       "<div>\n",
       "<style scoped>\n",
       "    .dataframe tbody tr th:only-of-type {\n",
       "        vertical-align: middle;\n",
       "    }\n",
       "\n",
       "    .dataframe tbody tr th {\n",
       "        vertical-align: top;\n",
       "    }\n",
       "\n",
       "    .dataframe thead th {\n",
       "        text-align: right;\n",
       "    }\n",
       "</style>\n",
       "<table border=\"1\" class=\"dataframe\">\n",
       "  <thead>\n",
       "    <tr style=\"text-align: right;\">\n",
       "      <th></th>\n",
       "      <th>VendorID</th>\n",
       "      <th>tpep_pickup_datetime</th>\n",
       "      <th>tpep_dropoff_datetime</th>\n",
       "      <th>passenger_count</th>\n",
       "      <th>trip_distance</th>\n",
       "      <th>RatecodeID</th>\n",
       "      <th>store_and_fwd_flag</th>\n",
       "      <th>payment_type</th>\n",
       "      <th>fare_amount</th>\n",
       "      <th>is_pick_drop_same</th>\n",
       "      <th>duration_min</th>\n",
       "      <th>duration_hours</th>\n",
       "      <th>pick_up_hour</th>\n",
       "    </tr>\n",
       "  </thead>\n",
       "  <tbody>\n",
       "    <tr>\n",
       "      <th>0</th>\n",
       "      <td>1</td>\n",
       "      <td>2023-02-01 00:32:53</td>\n",
       "      <td>2023-02-01 00:34:34</td>\n",
       "      <td>2.0</td>\n",
       "      <td>0.30</td>\n",
       "      <td>1.0</td>\n",
       "      <td>N</td>\n",
       "      <td>2</td>\n",
       "      <td>4.4</td>\n",
       "      <td>0</td>\n",
       "      <td>1.683333</td>\n",
       "      <td>0.028056</td>\n",
       "      <td>0</td>\n",
       "    </tr>\n",
       "    <tr>\n",
       "      <th>2</th>\n",
       "      <td>2</td>\n",
       "      <td>2023-02-01 00:35:16</td>\n",
       "      <td>2023-02-01 00:35:30</td>\n",
       "      <td>1.0</td>\n",
       "      <td>0.00</td>\n",
       "      <td>1.0</td>\n",
       "      <td>N</td>\n",
       "      <td>4</td>\n",
       "      <td>3.0</td>\n",
       "      <td>1</td>\n",
       "      <td>0.233333</td>\n",
       "      <td>0.003889</td>\n",
       "      <td>0</td>\n",
       "    </tr>\n",
       "    <tr>\n",
       "      <th>3</th>\n",
       "      <td>1</td>\n",
       "      <td>2023-02-01 00:29:33</td>\n",
       "      <td>2023-02-01 01:01:38</td>\n",
       "      <td>0.0</td>\n",
       "      <td>18.80</td>\n",
       "      <td>1.0</td>\n",
       "      <td>N</td>\n",
       "      <td>1</td>\n",
       "      <td>70.9</td>\n",
       "      <td>0</td>\n",
       "      <td>32.083333</td>\n",
       "      <td>0.534722</td>\n",
       "      <td>0</td>\n",
       "    </tr>\n",
       "    <tr>\n",
       "      <th>4</th>\n",
       "      <td>2</td>\n",
       "      <td>2023-02-01 00:12:28</td>\n",
       "      <td>2023-02-01 00:25:46</td>\n",
       "      <td>1.0</td>\n",
       "      <td>3.22</td>\n",
       "      <td>1.0</td>\n",
       "      <td>N</td>\n",
       "      <td>1</td>\n",
       "      <td>17.0</td>\n",
       "      <td>0</td>\n",
       "      <td>13.300000</td>\n",
       "      <td>0.221667</td>\n",
       "      <td>0</td>\n",
       "    </tr>\n",
       "    <tr>\n",
       "      <th>5</th>\n",
       "      <td>1</td>\n",
       "      <td>2023-02-01 00:52:40</td>\n",
       "      <td>2023-02-01 01:07:18</td>\n",
       "      <td>1.0</td>\n",
       "      <td>5.10</td>\n",
       "      <td>1.0</td>\n",
       "      <td>N</td>\n",
       "      <td>1</td>\n",
       "      <td>21.9</td>\n",
       "      <td>0</td>\n",
       "      <td>14.633333</td>\n",
       "      <td>0.243889</td>\n",
       "      <td>0</td>\n",
       "    </tr>\n",
       "    <tr>\n",
       "      <th>...</th>\n",
       "      <td>...</td>\n",
       "      <td>...</td>\n",
       "      <td>...</td>\n",
       "      <td>...</td>\n",
       "      <td>...</td>\n",
       "      <td>...</td>\n",
       "      <td>...</td>\n",
       "      <td>...</td>\n",
       "      <td>...</td>\n",
       "      <td>...</td>\n",
       "      <td>...</td>\n",
       "      <td>...</td>\n",
       "      <td>...</td>\n",
       "    </tr>\n",
       "    <tr>\n",
       "      <th>2837133</th>\n",
       "      <td>2</td>\n",
       "      <td>2023-02-28 23:47:42</td>\n",
       "      <td>2023-02-28 23:54:17</td>\n",
       "      <td>1.0</td>\n",
       "      <td>1.76</td>\n",
       "      <td>1.0</td>\n",
       "      <td>N</td>\n",
       "      <td>1</td>\n",
       "      <td>10.0</td>\n",
       "      <td>0</td>\n",
       "      <td>6.583333</td>\n",
       "      <td>0.109722</td>\n",
       "      <td>23</td>\n",
       "    </tr>\n",
       "    <tr>\n",
       "      <th>2837134</th>\n",
       "      <td>2</td>\n",
       "      <td>2023-02-28 23:10:57</td>\n",
       "      <td>2023-02-28 23:17:52</td>\n",
       "      <td>2.0</td>\n",
       "      <td>1.86</td>\n",
       "      <td>1.0</td>\n",
       "      <td>N</td>\n",
       "      <td>1</td>\n",
       "      <td>10.7</td>\n",
       "      <td>0</td>\n",
       "      <td>6.916667</td>\n",
       "      <td>0.115278</td>\n",
       "      <td>23</td>\n",
       "    </tr>\n",
       "    <tr>\n",
       "      <th>2837135</th>\n",
       "      <td>2</td>\n",
       "      <td>2023-02-28 23:09:54</td>\n",
       "      <td>2023-02-28 23:23:41</td>\n",
       "      <td>1.0</td>\n",
       "      <td>2.75</td>\n",
       "      <td>1.0</td>\n",
       "      <td>N</td>\n",
       "      <td>1</td>\n",
       "      <td>16.3</td>\n",
       "      <td>0</td>\n",
       "      <td>13.783333</td>\n",
       "      <td>0.229722</td>\n",
       "      <td>23</td>\n",
       "    </tr>\n",
       "    <tr>\n",
       "      <th>2837136</th>\n",
       "      <td>2</td>\n",
       "      <td>2023-02-28 23:50:17</td>\n",
       "      <td>2023-03-01 00:14:33</td>\n",
       "      <td>1.0</td>\n",
       "      <td>8.36</td>\n",
       "      <td>1.0</td>\n",
       "      <td>N</td>\n",
       "      <td>1</td>\n",
       "      <td>37.3</td>\n",
       "      <td>0</td>\n",
       "      <td>24.266667</td>\n",
       "      <td>0.404444</td>\n",
       "      <td>23</td>\n",
       "    </tr>\n",
       "    <tr>\n",
       "      <th>2837137</th>\n",
       "      <td>2</td>\n",
       "      <td>2023-02-28 23:56:16</td>\n",
       "      <td>2023-03-01 00:13:42</td>\n",
       "      <td>2.0</td>\n",
       "      <td>4.31</td>\n",
       "      <td>1.0</td>\n",
       "      <td>N</td>\n",
       "      <td>1</td>\n",
       "      <td>21.9</td>\n",
       "      <td>0</td>\n",
       "      <td>17.433333</td>\n",
       "      <td>0.290556</td>\n",
       "      <td>23</td>\n",
       "    </tr>\n",
       "  </tbody>\n",
       "</table>\n",
       "<p>2801031 rows × 13 columns</p>\n",
       "</div>"
      ],
      "text/plain": [
       "         VendorID tpep_pickup_datetime tpep_dropoff_datetime  passenger_count  \\\n",
       "0               1  2023-02-01 00:32:53   2023-02-01 00:34:34              2.0   \n",
       "2               2  2023-02-01 00:35:16   2023-02-01 00:35:30              1.0   \n",
       "3               1  2023-02-01 00:29:33   2023-02-01 01:01:38              0.0   \n",
       "4               2  2023-02-01 00:12:28   2023-02-01 00:25:46              1.0   \n",
       "5               1  2023-02-01 00:52:40   2023-02-01 01:07:18              1.0   \n",
       "...           ...                  ...                   ...              ...   \n",
       "2837133         2  2023-02-28 23:47:42   2023-02-28 23:54:17              1.0   \n",
       "2837134         2  2023-02-28 23:10:57   2023-02-28 23:17:52              2.0   \n",
       "2837135         2  2023-02-28 23:09:54   2023-02-28 23:23:41              1.0   \n",
       "2837136         2  2023-02-28 23:50:17   2023-03-01 00:14:33              1.0   \n",
       "2837137         2  2023-02-28 23:56:16   2023-03-01 00:13:42              2.0   \n",
       "\n",
       "         trip_distance  RatecodeID store_and_fwd_flag  payment_type  \\\n",
       "0                 0.30         1.0                  N             2   \n",
       "2                 0.00         1.0                  N             4   \n",
       "3                18.80         1.0                  N             1   \n",
       "4                 3.22         1.0                  N             1   \n",
       "5                 5.10         1.0                  N             1   \n",
       "...                ...         ...                ...           ...   \n",
       "2837133           1.76         1.0                  N             1   \n",
       "2837134           1.86         1.0                  N             1   \n",
       "2837135           2.75         1.0                  N             1   \n",
       "2837136           8.36         1.0                  N             1   \n",
       "2837137           4.31         1.0                  N             1   \n",
       "\n",
       "         fare_amount  is_pick_drop_same  duration_min  duration_hours  \\\n",
       "0                4.4                  0      1.683333        0.028056   \n",
       "2                3.0                  1      0.233333        0.003889   \n",
       "3               70.9                  0     32.083333        0.534722   \n",
       "4               17.0                  0     13.300000        0.221667   \n",
       "5               21.9                  0     14.633333        0.243889   \n",
       "...              ...                ...           ...             ...   \n",
       "2837133         10.0                  0      6.583333        0.109722   \n",
       "2837134         10.7                  0      6.916667        0.115278   \n",
       "2837135         16.3                  0     13.783333        0.229722   \n",
       "2837136         37.3                  0     24.266667        0.404444   \n",
       "2837137         21.9                  0     17.433333        0.290556   \n",
       "\n",
       "         pick_up_hour  \n",
       "0                   0  \n",
       "2                   0  \n",
       "3                   0  \n",
       "4                   0  \n",
       "5                   0  \n",
       "...               ...  \n",
       "2837133            23  \n",
       "2837134            23  \n",
       "2837135            23  \n",
       "2837136            23  \n",
       "2837137            23  \n",
       "\n",
       "[2801031 rows x 13 columns]"
      ]
     },
     "execution_count": 175,
     "metadata": {},
     "output_type": "execute_result"
    }
   ],
   "source": [
    "df6"
   ]
  },
  {
   "cell_type": "code",
   "execution_count": 176,
   "id": "d3f7651f",
   "metadata": {},
   "outputs": [
    {
     "data": {
      "text/plain": [
       "18    0.071804\n",
       "17    0.068923\n",
       "19    0.064006\n",
       "16    0.063831\n",
       "15    0.063170\n",
       "14    0.061727\n",
       "13    0.057108\n",
       "20    0.055582\n",
       "21    0.055408\n",
       "12    0.054597\n",
       "22    0.051177\n",
       "11    0.050426\n",
       "10    0.046823\n",
       "9     0.043207\n",
       "23    0.038688\n",
       "8     0.037814\n",
       "7     0.027354\n",
       "0     0.026417\n",
       "1     0.017565\n",
       "6     0.013859\n",
       "2     0.012132\n",
       "3     0.007872\n",
       "5     0.005430\n",
       "4     0.005080\n",
       "Name: pick_up_hour, dtype: float64"
      ]
     },
     "execution_count": 176,
     "metadata": {},
     "output_type": "execute_result"
    }
   ],
   "source": [
    "df6['pick_up_hour'].value_counts(normalize=True)"
   ]
  },
  {
   "cell_type": "code",
   "execution_count": 177,
   "id": "90ccd395",
   "metadata": {},
   "outputs": [],
   "source": [
    "def time(x):\n",
    "    if x >=4 and x<8:\n",
    "        return 'early morning'\n",
    "    elif x>=8 and x<12:\n",
    "        return 'morning'\n",
    "    elif x>=12 and x<16:\n",
    "        return 'After noon'\n",
    "    elif x>=16 and x<20:\n",
    "        return 'peak hours'\n",
    "    elif x>=20 and x<=23:\n",
    "        return 'night'\n",
    "    elif x>=0 and x<4:\n",
    "        return 'late night'\n",
    "    else:\n",
    "        return 'Unknown'\n",
    "        "
   ]
  },
  {
   "cell_type": "code",
   "execution_count": 178,
   "id": "ad7f5b53",
   "metadata": {},
   "outputs": [
    {
     "name": "stderr",
     "output_type": "stream",
     "text": [
      "C:\\Users\\Vivek\\AppData\\Local\\Temp/ipykernel_7728/2099815286.py:1: SettingWithCopyWarning: \n",
      "A value is trying to be set on a copy of a slice from a DataFrame.\n",
      "Try using .loc[row_indexer,col_indexer] = value instead\n",
      "\n",
      "See the caveats in the documentation: https://pandas.pydata.org/pandas-docs/stable/user_guide/indexing.html#returning-a-view-versus-a-copy\n",
      "  df6['hour_category'] = df6['pick_up_hour'].apply(time)\n"
     ]
    }
   ],
   "source": [
    "df6['hour_category'] = df6['pick_up_hour'].apply(time)"
   ]
  },
  {
   "cell_type": "code",
   "execution_count": 179,
   "id": "5a0c148f",
   "metadata": {},
   "outputs": [
    {
     "data": {
      "text/html": [
       "<div>\n",
       "<style scoped>\n",
       "    .dataframe tbody tr th:only-of-type {\n",
       "        vertical-align: middle;\n",
       "    }\n",
       "\n",
       "    .dataframe tbody tr th {\n",
       "        vertical-align: top;\n",
       "    }\n",
       "\n",
       "    .dataframe thead th {\n",
       "        text-align: right;\n",
       "    }\n",
       "</style>\n",
       "<table border=\"1\" class=\"dataframe\">\n",
       "  <thead>\n",
       "    <tr style=\"text-align: right;\">\n",
       "      <th></th>\n",
       "      <th>VendorID</th>\n",
       "      <th>tpep_pickup_datetime</th>\n",
       "      <th>tpep_dropoff_datetime</th>\n",
       "      <th>passenger_count</th>\n",
       "      <th>trip_distance</th>\n",
       "      <th>RatecodeID</th>\n",
       "      <th>store_and_fwd_flag</th>\n",
       "      <th>payment_type</th>\n",
       "      <th>fare_amount</th>\n",
       "      <th>is_pick_drop_same</th>\n",
       "      <th>duration_min</th>\n",
       "      <th>duration_hours</th>\n",
       "      <th>pick_up_hour</th>\n",
       "      <th>hour_category</th>\n",
       "    </tr>\n",
       "  </thead>\n",
       "  <tbody>\n",
       "    <tr>\n",
       "      <th>0</th>\n",
       "      <td>1</td>\n",
       "      <td>2023-02-01 00:32:53</td>\n",
       "      <td>2023-02-01 00:34:34</td>\n",
       "      <td>2.0</td>\n",
       "      <td>0.30</td>\n",
       "      <td>1.0</td>\n",
       "      <td>N</td>\n",
       "      <td>2</td>\n",
       "      <td>4.4</td>\n",
       "      <td>0</td>\n",
       "      <td>1.683333</td>\n",
       "      <td>0.028056</td>\n",
       "      <td>0</td>\n",
       "      <td>late night</td>\n",
       "    </tr>\n",
       "    <tr>\n",
       "      <th>2</th>\n",
       "      <td>2</td>\n",
       "      <td>2023-02-01 00:35:16</td>\n",
       "      <td>2023-02-01 00:35:30</td>\n",
       "      <td>1.0</td>\n",
       "      <td>0.00</td>\n",
       "      <td>1.0</td>\n",
       "      <td>N</td>\n",
       "      <td>4</td>\n",
       "      <td>3.0</td>\n",
       "      <td>1</td>\n",
       "      <td>0.233333</td>\n",
       "      <td>0.003889</td>\n",
       "      <td>0</td>\n",
       "      <td>late night</td>\n",
       "    </tr>\n",
       "    <tr>\n",
       "      <th>3</th>\n",
       "      <td>1</td>\n",
       "      <td>2023-02-01 00:29:33</td>\n",
       "      <td>2023-02-01 01:01:38</td>\n",
       "      <td>0.0</td>\n",
       "      <td>18.80</td>\n",
       "      <td>1.0</td>\n",
       "      <td>N</td>\n",
       "      <td>1</td>\n",
       "      <td>70.9</td>\n",
       "      <td>0</td>\n",
       "      <td>32.083333</td>\n",
       "      <td>0.534722</td>\n",
       "      <td>0</td>\n",
       "      <td>late night</td>\n",
       "    </tr>\n",
       "    <tr>\n",
       "      <th>4</th>\n",
       "      <td>2</td>\n",
       "      <td>2023-02-01 00:12:28</td>\n",
       "      <td>2023-02-01 00:25:46</td>\n",
       "      <td>1.0</td>\n",
       "      <td>3.22</td>\n",
       "      <td>1.0</td>\n",
       "      <td>N</td>\n",
       "      <td>1</td>\n",
       "      <td>17.0</td>\n",
       "      <td>0</td>\n",
       "      <td>13.300000</td>\n",
       "      <td>0.221667</td>\n",
       "      <td>0</td>\n",
       "      <td>late night</td>\n",
       "    </tr>\n",
       "    <tr>\n",
       "      <th>5</th>\n",
       "      <td>1</td>\n",
       "      <td>2023-02-01 00:52:40</td>\n",
       "      <td>2023-02-01 01:07:18</td>\n",
       "      <td>1.0</td>\n",
       "      <td>5.10</td>\n",
       "      <td>1.0</td>\n",
       "      <td>N</td>\n",
       "      <td>1</td>\n",
       "      <td>21.9</td>\n",
       "      <td>0</td>\n",
       "      <td>14.633333</td>\n",
       "      <td>0.243889</td>\n",
       "      <td>0</td>\n",
       "      <td>late night</td>\n",
       "    </tr>\n",
       "  </tbody>\n",
       "</table>\n",
       "</div>"
      ],
      "text/plain": [
       "   VendorID tpep_pickup_datetime tpep_dropoff_datetime  passenger_count  \\\n",
       "0         1  2023-02-01 00:32:53   2023-02-01 00:34:34              2.0   \n",
       "2         2  2023-02-01 00:35:16   2023-02-01 00:35:30              1.0   \n",
       "3         1  2023-02-01 00:29:33   2023-02-01 01:01:38              0.0   \n",
       "4         2  2023-02-01 00:12:28   2023-02-01 00:25:46              1.0   \n",
       "5         1  2023-02-01 00:52:40   2023-02-01 01:07:18              1.0   \n",
       "\n",
       "   trip_distance  RatecodeID store_and_fwd_flag  payment_type  fare_amount  \\\n",
       "0           0.30         1.0                  N             2          4.4   \n",
       "2           0.00         1.0                  N             4          3.0   \n",
       "3          18.80         1.0                  N             1         70.9   \n",
       "4           3.22         1.0                  N             1         17.0   \n",
       "5           5.10         1.0                  N             1         21.9   \n",
       "\n",
       "   is_pick_drop_same  duration_min  duration_hours  pick_up_hour hour_category  \n",
       "0                  0      1.683333        0.028056             0    late night  \n",
       "2                  1      0.233333        0.003889             0    late night  \n",
       "3                  0     32.083333        0.534722             0    late night  \n",
       "4                  0     13.300000        0.221667             0    late night  \n",
       "5                  0     14.633333        0.243889             0    late night  "
      ]
     },
     "execution_count": 179,
     "metadata": {},
     "output_type": "execute_result"
    }
   ],
   "source": [
    "df6.head(5)"
   ]
  },
  {
   "cell_type": "code",
   "execution_count": 180,
   "id": "2617ed46",
   "metadata": {},
   "outputs": [
    {
     "data": {
      "text/plain": [
       "peak hours       752255\n",
       "After noon       662730\n",
       "night            562600\n",
       "morning          499340\n",
       "late night       179228\n",
       "early morning    144878\n",
       "Name: hour_category, dtype: int64"
      ]
     },
     "execution_count": 180,
     "metadata": {},
     "output_type": "execute_result"
    }
   ],
   "source": [
    "df6['hour_category'].value_counts()"
   ]
  },
  {
   "cell_type": "code",
   "execution_count": 181,
   "id": "1acc9d65",
   "metadata": {},
   "outputs": [
    {
     "name": "stderr",
     "output_type": "stream",
     "text": [
      "C:\\Users\\Vivek\\AppData\\Local\\Temp/ipykernel_7728/3882979099.py:1: SettingWithCopyWarning: \n",
      "A value is trying to be set on a copy of a slice from a DataFrame.\n",
      "Try using .loc[row_indexer,col_indexer] = value instead\n",
      "\n",
      "See the caveats in the documentation: https://pandas.pydata.org/pandas-docs/stable/user_guide/indexing.html#returning-a-view-versus-a-copy\n",
      "  df6['dayofweek'] = df6['tpep_pickup_datetime'].dt.dayofweek\n"
     ]
    }
   ],
   "source": [
    "df6['dayofweek'] = df6['tpep_pickup_datetime'].dt.dayofweek"
   ]
  },
  {
   "cell_type": "code",
   "execution_count": 182,
   "id": "1b28c991",
   "metadata": {},
   "outputs": [
    {
     "data": {
      "text/plain": [
       "3    439417\n",
       "4    437675\n",
       "2    421819\n",
       "5    413650\n",
       "1    400058\n",
       "6    345267\n",
       "0    343145\n",
       "Name: dayofweek, dtype: int64"
      ]
     },
     "execution_count": 182,
     "metadata": {},
     "output_type": "execute_result"
    }
   ],
   "source": [
    "df6['dayofweek'].value_counts()"
   ]
  },
  {
   "cell_type": "code",
   "execution_count": 183,
   "id": "39148b5d",
   "metadata": {},
   "outputs": [
    {
     "name": "stderr",
     "output_type": "stream",
     "text": [
      "C:\\Users\\Vivek\\AppData\\Local\\Temp/ipykernel_7728/1600801645.py:1: SettingWithCopyWarning: \n",
      "A value is trying to be set on a copy of a slice from a DataFrame.\n",
      "Try using .loc[row_indexer,col_indexer] = value instead\n",
      "\n",
      "See the caveats in the documentation: https://pandas.pydata.org/pandas-docs/stable/user_guide/indexing.html#returning-a-view-versus-a-copy\n",
      "  df6['isweekend'] = np.where(df6['dayofweek'].isin([5,6]),1,0)\n"
     ]
    }
   ],
   "source": [
    "df6['isweekend'] = np.where(df6['dayofweek'].isin([5,6]),1,0)"
   ]
  },
  {
   "cell_type": "code",
   "execution_count": 184,
   "id": "f1cbd4c2",
   "metadata": {},
   "outputs": [
    {
     "data": {
      "text/plain": [
       "0    2042114\n",
       "1     758917\n",
       "Name: isweekend, dtype: int64"
      ]
     },
     "execution_count": 184,
     "metadata": {},
     "output_type": "execute_result"
    }
   ],
   "source": [
    "df6['isweekend'].value_counts()"
   ]
  },
  {
   "cell_type": "code",
   "execution_count": 185,
   "id": "1530a584",
   "metadata": {},
   "outputs": [
    {
     "data": {
      "text/plain": [
       "Index(['VendorID', 'tpep_pickup_datetime', 'tpep_dropoff_datetime',\n",
       "       'passenger_count', 'trip_distance', 'RatecodeID', 'store_and_fwd_flag',\n",
       "       'PULocationID', 'DOLocationID', 'payment_type', 'fare_amount', 'extra',\n",
       "       'mta_tax', 'tip_amount', 'tolls_amount', 'improvement_surcharge',\n",
       "       'total_amount', 'congestion_surcharge', 'Airport_fee'],\n",
       "      dtype='object')"
      ]
     },
     "execution_count": 185,
     "metadata": {},
     "output_type": "execute_result"
    }
   ],
   "source": [
    "df.columns"
   ]
  },
  {
   "cell_type": "code",
   "execution_count": 186,
   "id": "043d3869",
   "metadata": {},
   "outputs": [
    {
     "data": {
      "text/html": [
       "<div>\n",
       "<style scoped>\n",
       "    .dataframe tbody tr th:only-of-type {\n",
       "        vertical-align: middle;\n",
       "    }\n",
       "\n",
       "    .dataframe tbody tr th {\n",
       "        vertical-align: top;\n",
       "    }\n",
       "\n",
       "    .dataframe thead th {\n",
       "        text-align: right;\n",
       "    }\n",
       "</style>\n",
       "<table border=\"1\" class=\"dataframe\">\n",
       "  <thead>\n",
       "    <tr style=\"text-align: right;\">\n",
       "      <th></th>\n",
       "      <th>VendorID</th>\n",
       "      <th>tpep_pickup_datetime</th>\n",
       "      <th>tpep_dropoff_datetime</th>\n",
       "      <th>passenger_count</th>\n",
       "      <th>trip_distance</th>\n",
       "      <th>RatecodeID</th>\n",
       "      <th>store_and_fwd_flag</th>\n",
       "      <th>payment_type</th>\n",
       "      <th>fare_amount</th>\n",
       "      <th>is_pick_drop_same</th>\n",
       "      <th>duration_min</th>\n",
       "      <th>duration_hours</th>\n",
       "      <th>pick_up_hour</th>\n",
       "      <th>hour_category</th>\n",
       "      <th>dayofweek</th>\n",
       "      <th>isweekend</th>\n",
       "    </tr>\n",
       "  </thead>\n",
       "  <tbody>\n",
       "    <tr>\n",
       "      <th>0</th>\n",
       "      <td>1</td>\n",
       "      <td>2023-02-01 00:32:53</td>\n",
       "      <td>2023-02-01 00:34:34</td>\n",
       "      <td>2.0</td>\n",
       "      <td>0.30</td>\n",
       "      <td>1.0</td>\n",
       "      <td>N</td>\n",
       "      <td>2</td>\n",
       "      <td>4.4</td>\n",
       "      <td>0</td>\n",
       "      <td>1.683333</td>\n",
       "      <td>0.028056</td>\n",
       "      <td>0</td>\n",
       "      <td>late night</td>\n",
       "      <td>2</td>\n",
       "      <td>0</td>\n",
       "    </tr>\n",
       "    <tr>\n",
       "      <th>2</th>\n",
       "      <td>2</td>\n",
       "      <td>2023-02-01 00:35:16</td>\n",
       "      <td>2023-02-01 00:35:30</td>\n",
       "      <td>1.0</td>\n",
       "      <td>0.00</td>\n",
       "      <td>1.0</td>\n",
       "      <td>N</td>\n",
       "      <td>4</td>\n",
       "      <td>3.0</td>\n",
       "      <td>1</td>\n",
       "      <td>0.233333</td>\n",
       "      <td>0.003889</td>\n",
       "      <td>0</td>\n",
       "      <td>late night</td>\n",
       "      <td>2</td>\n",
       "      <td>0</td>\n",
       "    </tr>\n",
       "    <tr>\n",
       "      <th>3</th>\n",
       "      <td>1</td>\n",
       "      <td>2023-02-01 00:29:33</td>\n",
       "      <td>2023-02-01 01:01:38</td>\n",
       "      <td>0.0</td>\n",
       "      <td>18.80</td>\n",
       "      <td>1.0</td>\n",
       "      <td>N</td>\n",
       "      <td>1</td>\n",
       "      <td>70.9</td>\n",
       "      <td>0</td>\n",
       "      <td>32.083333</td>\n",
       "      <td>0.534722</td>\n",
       "      <td>0</td>\n",
       "      <td>late night</td>\n",
       "      <td>2</td>\n",
       "      <td>0</td>\n",
       "    </tr>\n",
       "    <tr>\n",
       "      <th>4</th>\n",
       "      <td>2</td>\n",
       "      <td>2023-02-01 00:12:28</td>\n",
       "      <td>2023-02-01 00:25:46</td>\n",
       "      <td>1.0</td>\n",
       "      <td>3.22</td>\n",
       "      <td>1.0</td>\n",
       "      <td>N</td>\n",
       "      <td>1</td>\n",
       "      <td>17.0</td>\n",
       "      <td>0</td>\n",
       "      <td>13.300000</td>\n",
       "      <td>0.221667</td>\n",
       "      <td>0</td>\n",
       "      <td>late night</td>\n",
       "      <td>2</td>\n",
       "      <td>0</td>\n",
       "    </tr>\n",
       "    <tr>\n",
       "      <th>5</th>\n",
       "      <td>1</td>\n",
       "      <td>2023-02-01 00:52:40</td>\n",
       "      <td>2023-02-01 01:07:18</td>\n",
       "      <td>1.0</td>\n",
       "      <td>5.10</td>\n",
       "      <td>1.0</td>\n",
       "      <td>N</td>\n",
       "      <td>1</td>\n",
       "      <td>21.9</td>\n",
       "      <td>0</td>\n",
       "      <td>14.633333</td>\n",
       "      <td>0.243889</td>\n",
       "      <td>0</td>\n",
       "      <td>late night</td>\n",
       "      <td>2</td>\n",
       "      <td>0</td>\n",
       "    </tr>\n",
       "  </tbody>\n",
       "</table>\n",
       "</div>"
      ],
      "text/plain": [
       "   VendorID tpep_pickup_datetime tpep_dropoff_datetime  passenger_count  \\\n",
       "0         1  2023-02-01 00:32:53   2023-02-01 00:34:34              2.0   \n",
       "2         2  2023-02-01 00:35:16   2023-02-01 00:35:30              1.0   \n",
       "3         1  2023-02-01 00:29:33   2023-02-01 01:01:38              0.0   \n",
       "4         2  2023-02-01 00:12:28   2023-02-01 00:25:46              1.0   \n",
       "5         1  2023-02-01 00:52:40   2023-02-01 01:07:18              1.0   \n",
       "\n",
       "   trip_distance  RatecodeID store_and_fwd_flag  payment_type  fare_amount  \\\n",
       "0           0.30         1.0                  N             2          4.4   \n",
       "2           0.00         1.0                  N             4          3.0   \n",
       "3          18.80         1.0                  N             1         70.9   \n",
       "4           3.22         1.0                  N             1         17.0   \n",
       "5           5.10         1.0                  N             1         21.9   \n",
       "\n",
       "   is_pick_drop_same  duration_min  duration_hours  pick_up_hour  \\\n",
       "0                  0      1.683333        0.028056             0   \n",
       "2                  1      0.233333        0.003889             0   \n",
       "3                  0     32.083333        0.534722             0   \n",
       "4                  0     13.300000        0.221667             0   \n",
       "5                  0     14.633333        0.243889             0   \n",
       "\n",
       "  hour_category  dayofweek  isweekend  \n",
       "0    late night          2          0  \n",
       "2    late night          2          0  \n",
       "3    late night          2          0  \n",
       "4    late night          2          0  \n",
       "5    late night          2          0  "
      ]
     },
     "execution_count": 186,
     "metadata": {},
     "output_type": "execute_result"
    }
   ],
   "source": [
    "df6.head()"
   ]
  },
  {
   "cell_type": "markdown",
   "id": "9e67e4fb",
   "metadata": {},
   "source": [
    "## Model assumption"
   ]
  },
  {
   "cell_type": "code",
   "execution_count": 187,
   "id": "02936be9",
   "metadata": {},
   "outputs": [
    {
     "data": {
      "image/png": "[encoded data removed]",
      "text/plain": [
       "<Figure size 432x288 with 1 Axes>"
      ]
     },
     "metadata": {
      "needs_background": "light"
     },
     "output_type": "display_data"
    }
   ],
   "source": [
    "sns.histplot(df6[\"fare_amount\"], bins=10)\n",
    "plt.xticks(np.arange(0,100,10))\n",
    "plt.show()"
   ]
  },
  {
   "cell_type": "code",
   "execution_count": 188,
   "id": "a0055ba8",
   "metadata": {},
   "outputs": [],
   "source": [
    "from scipy import stats"
   ]
  },
  {
   "cell_type": "code",
   "execution_count": 189,
   "id": "0114af18",
   "metadata": {},
   "outputs": [],
   "source": [
    "#stats.shapiro(df6['fare_amount']) #more than 5000 records  so not apply shapiro . here we apply jarque bera test"
   ]
  },
  {
   "cell_type": "code",
   "execution_count": 190,
   "id": "32070120",
   "metadata": {},
   "outputs": [
    {
     "data": {
      "text/plain": [
       "Jarque_beraResult(statistic=5450961.160300129, pvalue=0.0)"
      ]
     },
     "execution_count": 190,
     "metadata": {},
     "output_type": "execute_result"
    }
   ],
   "source": [
    "stats.jarque_bera(df6['fare_amount'])"
   ]
  },
  {
   "cell_type": "code",
   "execution_count": 191,
   "id": "4454a2a4",
   "metadata": {},
   "outputs": [
    {
     "data": {
      "text/plain": [
       "Jarque_beraResult(statistic=282612.7127387432, pvalue=0.0)"
      ]
     },
     "execution_count": 191,
     "metadata": {},
     "output_type": "execute_result"
    }
   ],
   "source": [
    "stats.jarque_bera(np.log1p(df6[\"fare_amount\"]))"
   ]
  },
  {
   "cell_type": "code",
   "execution_count": 192,
   "id": "2370c46a",
   "metadata": {},
   "outputs": [
    {
     "data": {
      "image/png": "[encoded data removed]",
      "text/plain": [
       "<Figure size 432x288 with 1 Axes>"
      ]
     },
     "metadata": {
      "needs_background": "light"
     },
     "output_type": "display_data"
    }
   ],
   "source": [
    "sns.histplot(np.sqrt(df6[\"fare_amount\"]), bins=10)\n",
    "plt.xticks(np.arange(0,100,10))\n",
    "plt.show()"
   ]
  },
  {
   "cell_type": "code",
   "execution_count": 193,
   "id": "a5670190",
   "metadata": {},
   "outputs": [],
   "source": [
    "df7 = df6.drop(columns=['tpep_pickup_datetime','tpep_dropoff_datetime'])"
   ]
  },
  {
   "cell_type": "code",
   "execution_count": 194,
   "id": "7b5f998b",
   "metadata": {},
   "outputs": [
    {
     "data": {
      "text/plain": [
       "VendorID                int32\n",
       "passenger_count       float64\n",
       "trip_distance         float64\n",
       "RatecodeID            float64\n",
       "store_and_fwd_flag     object\n",
       "payment_type            int64\n",
       "fare_amount           float64\n",
       "is_pick_drop_same       int32\n",
       "duration_min          float64\n",
       "duration_hours        float64\n",
       "pick_up_hour            int64\n",
       "hour_category          object\n",
       "dayofweek               int64\n",
       "isweekend               int32\n",
       "dtype: object"
      ]
     },
     "execution_count": 194,
     "metadata": {},
     "output_type": "execute_result"
    }
   ],
   "source": [
    "df7.dtypes"
   ]
  },
  {
   "cell_type": "code",
   "execution_count": 195,
   "id": "ffa300e6",
   "metadata": {},
   "outputs": [],
   "source": [
    "df8 = pd.get_dummies(df7,columns=['store_and_fwd_flag','hour_category'],drop_first=True)"
   ]
  },
  {
   "cell_type": "markdown",
   "id": "84474b28",
   "metadata": {},
   "source": [
    "### Model development"
   ]
  },
  {
   "cell_type": "code",
   "execution_count": 196,
   "id": "ffdd97e5",
   "metadata": {},
   "outputs": [],
   "source": [
    "y =df8['fare_amount']\n",
    "x= df8.drop(columns=['fare_amount'])"
   ]
  },
  {
   "cell_type": "code",
   "execution_count": 197,
   "id": "07be4ca1",
   "metadata": {},
   "outputs": [],
   "source": [
    "from sklearn import metrics\n",
    "from sklearn.model_selection import train_test_split\n",
    "from sklearn.linear_model import LinearRegression"
   ]
  },
  {
   "cell_type": "code",
   "execution_count": 198,
   "id": "9dc51878",
   "metadata": {},
   "outputs": [],
   "source": [
    "x_train,x_test,y_train,y_test = train_test_split(x,y,test_size=.3,random_state=88)"
   ]
  },
  {
   "cell_type": "code",
   "execution_count": 199,
   "id": "21175d00",
   "metadata": {},
   "outputs": [
    {
     "data": {
      "text/html": [
       "<style>#sk-container-id-2 {color: black;background-color: white;}#sk-container-id-2 pre{padding: 0;}#sk-container-id-2 div.sk-toggleable {background-color: white;}#sk-container-id-2 label.sk-toggleable__label {cursor: pointer;display: block;width: 100%;margin-bottom: 0;padding: 0.3em;box-sizing: border-box;text-align: center;}#sk-container-id-2 label.sk-toggleable__label-arrow:before {content: \"▸\";float: left;margin-right: 0.25em;color: #696969;}#sk-container-id-2 label.sk-toggleable__label-arrow:hover:before {color: black;}#sk-container-id-2 div.sk-estimator:hover label.sk-toggleable__label-arrow:before {color: black;}#sk-container-id-2 div.sk-toggleable__content {max-height: 0;max-width: 0;overflow: hidden;text-align: left;background-color: #f0f8ff;}#sk-container-id-2 div.sk-toggleable__content pre {margin: 0.2em;color: black;border-radius: 0.25em;background-color: #f0f8ff;}#sk-container-id-2 input.sk-toggleable__control:checked~div.sk-toggleable__content {max-height: 200px;max-width: 100%;overflow: auto;}#sk-container-id-2 input.sk-toggleable__control:checked~label.sk-toggleable__label-arrow:before {content: \"▾\";}#sk-container-id-2 div.sk-estimator input.sk-toggleable__control:checked~label.sk-toggleable__label {background-color: #d4ebff;}#sk-container-id-2 div.sk-label input.sk-toggleable__control:checked~label.sk-toggleable__label {background-color: #d4ebff;}#sk-container-id-2 input.sk-hidden--visually {border: 0;clip: rect(1px 1px 1px 1px);clip: rect(1px, 1px, 1px, 1px);height: 1px;margin: -1px;overflow: hidden;padding: 0;position: absolute;width: 1px;}#sk-container-id-2 div.sk-estimator {font-family: monospace;background-color: #f0f8ff;border: 1px dotted black;border-radius: 0.25em;box-sizing: border-box;margin-bottom: 0.5em;}#sk-container-id-2 div.sk-estimator:hover {background-color: #d4ebff;}#sk-container-id-2 div.sk-parallel-item::after {content: \"\";width: 100%;border-bottom: 1px solid gray;flex-grow: 1;}#sk-container-id-2 div.sk-label:hover label.sk-toggleable__label {background-color: #d4ebff;}#sk-container-id-2 div.sk-serial::before {content: \"\";position: absolute;border-left: 1px solid gray;box-sizing: border-box;top: 0;bottom: 0;left: 50%;z-index: 0;}#sk-container-id-2 div.sk-serial {display: flex;flex-direction: column;align-items: center;background-color: white;padding-right: 0.2em;padding-left: 0.2em;position: relative;}#sk-container-id-2 div.sk-item {position: relative;z-index: 1;}#sk-container-id-2 div.sk-parallel {display: flex;align-items: stretch;justify-content: center;background-color: white;position: relative;}#sk-container-id-2 div.sk-item::before, #sk-container-id-2 div.sk-parallel-item::before {content: \"\";position: absolute;border-left: 1px solid gray;box-sizing: border-box;top: 0;bottom: 0;left: 50%;z-index: -1;}#sk-container-id-2 div.sk-parallel-item {display: flex;flex-direction: column;z-index: 1;position: relative;background-color: white;}#sk-container-id-2 div.sk-parallel-item:first-child::after {align-self: flex-end;width: 50%;}#sk-container-id-2 div.sk-parallel-item:last-child::after {align-self: flex-start;width: 50%;}#sk-container-id-2 div.sk-parallel-item:only-child::after {width: 0;}#sk-container-id-2 div.sk-dashed-wrapped {border: 1px dashed gray;margin: 0 0.4em 0.5em 0.4em;box-sizing: border-box;padding-bottom: 0.4em;background-color: white;}#sk-container-id-2 div.sk-label label {font-family: monospace;font-weight: bold;display: inline-block;line-height: 1.2em;}#sk-container-id-2 div.sk-label-container {text-align: center;}#sk-container-id-2 div.sk-container {/* jupyter's `normalize.less` sets `[hidden] { display: none; }` but bootstrap.min.css set `[hidden] { display: none !important; }` so we also need the `!important` here to be able to override the default hidden behavior on the sphinx rendered scikit-learn.org. See: https://github.com/scikit-learn/scikit-learn/issues/21755 */display: inline-block !important;position: relative;}#sk-container-id-2 div.sk-text-repr-fallback {display: none;}</style><div id=\"sk-container-id-2\" class=\"sk-top-container\"><div class=\"sk-text-repr-fallback\"><pre>LinearRegression()</pre><b>In a Jupyter environment, please rerun this cell to show the HTML representation or trust the notebook. <br />On GitHub, the HTML representation is unable to render, please try loading this page with nbviewer.org.</b></div><div class=\"sk-container\" hidden><div class=\"sk-item\"><div class=\"sk-estimator sk-toggleable\"><input class=\"sk-toggleable__control sk-hidden--visually\" id=\"sk-estimator-id-2\" type=\"checkbox\" checked><label for=\"sk-estimator-id-2\" class=\"sk-toggleable__label sk-toggleable__label-arrow\">LinearRegression</label><div class=\"sk-toggleable__content\"><pre>LinearRegression()</pre></div></div></div></div></div>"
      ],
      "text/plain": [
       "LinearRegression()"
      ]
     },
     "execution_count": 199,
     "metadata": {},
     "output_type": "execute_result"
    }
   ],
   "source": [
    "lr=LinearRegression()\n",
    "lr.fit(x_train,y_train)"
   ]
  },
  {
   "cell_type": "code",
   "execution_count": 200,
   "id": "dc642b57",
   "metadata": {},
   "outputs": [
    {
     "data": {
      "text/plain": [
       "array([ 1.30442858e+00,  8.07791136e-02,  3.05309826e-02, -6.93068018e-02,\n",
       "        3.24793722e-01,  3.43588527e+00,  1.14093784e+00,  1.90156306e-02,\n",
       "       -1.45314378e-03, -2.67963762e-01,  1.96860524e+00,  4.94501606e-03,\n",
       "        4.05157541e+00,  2.47309743e+00,  3.88577471e-01,  2.22616464e+00,\n",
       "       -1.25376645e-01])"
      ]
     },
     "execution_count": 200,
     "metadata": {},
     "output_type": "execute_result"
    }
   ],
   "source": [
    "lr.coef_"
   ]
  },
  {
   "cell_type": "code",
   "execution_count": 201,
   "id": "ab9f5fb0",
   "metadata": {},
   "outputs": [
    {
     "data": {
      "text/plain": [
       "Index(['VendorID', 'passenger_count', 'trip_distance', 'RatecodeID',\n",
       "       'payment_type', 'is_pick_drop_same', 'duration_min', 'duration_hours',\n",
       "       'pick_up_hour', 'dayofweek', 'isweekend', 'store_and_fwd_flag_Y',\n",
       "       'hour_category_early morning', 'hour_category_late night',\n",
       "       'hour_category_morning', 'hour_category_night',\n",
       "       'hour_category_peak hours'],\n",
       "      dtype='object')"
      ]
     },
     "execution_count": 201,
     "metadata": {},
     "output_type": "execute_result"
    }
   ],
   "source": [
    "x.columns"
   ]
  },
  {
   "cell_type": "code",
   "execution_count": 202,
   "id": "17af49e9",
   "metadata": {},
   "outputs": [
    {
     "data": {
      "text/plain": [
       "-2.008591210747948"
      ]
     },
     "execution_count": 202,
     "metadata": {},
     "output_type": "execute_result"
    }
   ],
   "source": [
    "lr.intercept_"
   ]
  },
  {
   "cell_type": "code",
   "execution_count": 203,
   "id": "557fa88c",
   "metadata": {},
   "outputs": [
    {
     "name": "stdout",
     "output_type": "stream",
     "text": [
      "VendorID * 1.3044285792294261\n",
      "passenger_count * 0.0807791136115681\n",
      "trip_distance * 0.03053098260394631\n",
      "RatecodeID * -0.06930680181955745\n",
      "payment_type * 0.3247937221870205\n",
      "is_pick_drop_same * 3.435885269765559\n",
      "duration_min * 1.140937838071093\n",
      "duration_hours * 0.01901563063451562\n",
      "pick_up_hour * -0.0014531437775282333\n",
      "dayofweek * -0.2679637621466377\n",
      "isweekend * 1.968605235641335\n",
      "store_and_fwd_flag_Y * 0.0049450160560350264\n",
      "hour_category_early morning * 4.051575411533532\n",
      "hour_category_late night * 2.473097432165978\n",
      "hour_category_morning * 0.388577471211771\n",
      "hour_category_night * 2.2261646416888543\n",
      "hour_category_peak hours * -0.125376644785382\n"
     ]
    }
   ],
   "source": [
    "for i,j in zip(x.columns,lr.coef_):\n",
    "    print(i,\"*\",j)"
   ]
  },
  {
   "cell_type": "markdown",
   "id": "b2ee7d37",
   "metadata": {},
   "source": [
    "## Model evaluation"
   ]
  },
  {
   "cell_type": "code",
   "execution_count": 204,
   "id": "b432e68e",
   "metadata": {},
   "outputs": [],
   "source": [
    "pred_train = lr.predict(x_train)\n",
    "pred_test = lr.predict(x_test)"
   ]
  },
  {
   "cell_type": "code",
   "execution_count": 205,
   "id": "bfd7b26c",
   "metadata": {},
   "outputs": [
    {
     "data": {
      "text/html": [
       "<div>\n",
       "<style scoped>\n",
       "    .dataframe tbody tr th:only-of-type {\n",
       "        vertical-align: middle;\n",
       "    }\n",
       "\n",
       "    .dataframe tbody tr th {\n",
       "        vertical-align: top;\n",
       "    }\n",
       "\n",
       "    .dataframe thead th {\n",
       "        text-align: right;\n",
       "    }\n",
       "</style>\n",
       "<table border=\"1\" class=\"dataframe\">\n",
       "  <thead>\n",
       "    <tr style=\"text-align: right;\">\n",
       "      <th></th>\n",
       "      <th>Act</th>\n",
       "      <th>Pred</th>\n",
       "    </tr>\n",
       "  </thead>\n",
       "  <tbody>\n",
       "    <tr>\n",
       "      <th>1442336</th>\n",
       "      <td>24.0</td>\n",
       "      <td>30.744879</td>\n",
       "    </tr>\n",
       "    <tr>\n",
       "      <th>45154</th>\n",
       "      <td>24.7</td>\n",
       "      <td>30.466126</td>\n",
       "    </tr>\n",
       "  </tbody>\n",
       "</table>\n",
       "</div>"
      ],
      "text/plain": [
       "          Act       Pred\n",
       "1442336  24.0  30.744879\n",
       "45154    24.7  30.466126"
      ]
     },
     "execution_count": 205,
     "metadata": {},
     "output_type": "execute_result"
    }
   ],
   "source": [
    "pd.DataFrame({'Act':y_train,'Pred':pred_train}).head(2)"
   ]
  },
  {
   "cell_type": "code",
   "execution_count": 206,
   "id": "a2671b44",
   "metadata": {},
   "outputs": [],
   "source": [
    "#train"
   ]
  },
  {
   "cell_type": "code",
   "execution_count": 207,
   "id": "087906a8",
   "metadata": {},
   "outputs": [
    {
     "name": "stdout",
     "output_type": "stream",
     "text": [
      "MSE 74.51034805938048\n",
      "RMSE 8.63193767698658\n",
      "MAE 74.51034805938048\n",
      "MApE 0.21646079022833312\n"
     ]
    }
   ],
   "source": [
    "print('MSE',np.mean((pred_train-y_train)**2))\n",
    "print('RMSE',np.sqrt(np.mean((pred_train-y_train)**2)))\n",
    "print('MAE',np.mean(np.abs(pred_train-y_train)**2))\n",
    "print('MApE',np.mean(np.abs((pred_train-y_train)/y_train)))"
   ]
  },
  {
   "cell_type": "code",
   "execution_count": 208,
   "id": "04278f2a",
   "metadata": {},
   "outputs": [],
   "source": [
    "#test"
   ]
  },
  {
   "cell_type": "code",
   "execution_count": 209,
   "id": "a3ec319b",
   "metadata": {},
   "outputs": [
    {
     "name": "stdout",
     "output_type": "stream",
     "text": [
      "MSE 73.3910325324547\n",
      "RMSE 8.566856630786738\n",
      "MAE 73.3910325324547\n",
      "MApE 0.21630570455649356\n"
     ]
    }
   ],
   "source": [
    "print('MSE',np.mean((pred_test-y_test)**2))\n",
    "print('RMSE',np.sqrt(np.mean((pred_test-y_test)**2)))\n",
    "print('MAE',np.mean(np.abs(pred_test-y_test)**2))\n",
    "print('MApE',np.mean(np.abs((pred_test-y_test)/y_test)))"
   ]
  },
  {
   "cell_type": "code",
   "execution_count": 210,
   "id": "703f9040",
   "metadata": {},
   "outputs": [],
   "source": [
    "# difference between train and test in almost same so it is ideal model"
   ]
  },
  {
   "cell_type": "code",
   "execution_count": 211,
   "id": "f3f5234b",
   "metadata": {},
   "outputs": [
    {
     "data": {
      "text/plain": [
       "Index(['VendorID', 'passenger_count', 'trip_distance', 'RatecodeID',\n",
       "       'payment_type', 'is_pick_drop_same', 'duration_min', 'duration_hours',\n",
       "       'pick_up_hour', 'dayofweek', 'isweekend', 'store_and_fwd_flag_Y',\n",
       "       'hour_category_early morning', 'hour_category_late night',\n",
       "       'hour_category_morning', 'hour_category_night',\n",
       "       'hour_category_peak hours'],\n",
       "      dtype='object')"
      ]
     },
     "execution_count": 211,
     "metadata": {},
     "output_type": "execute_result"
    }
   ],
   "source": [
    "x.columns"
   ]
  },
  {
   "cell_type": "code",
   "execution_count": 212,
   "id": "1838eb28",
   "metadata": {},
   "outputs": [],
   "source": [
    "# let suppose new records enter\n",
    "\n",
    "new_booking = pd.DataFrame({\"VendorID\":[2],'passenger_count':[2], 'trip_distance':[1.5], 'RatecodeID':[2],'payment_type':[1],\n",
    "                            'is_pick_drop_same':[0],'duration_min':[15],'duration_hours':[15/60],'pick_up_hour':[6],\n",
    "                            'day_of_week':[1],'isweekend':[0],'store_and_fwd_Y':[1],'hour_category_early_morning':[1], \n",
    "                            'hour_category_late_night':[0], 'hour_category_morning':[0], 'hour_category_night':[0],\n",
    "                            'hour_category_peak_hours':[0]})"
   ]
  },
  {
   "cell_type": "code",
   "execution_count": 213,
   "id": "dd00b527",
   "metadata": {},
   "outputs": [
    {
     "name": "stderr",
     "output_type": "stream",
     "text": [
      "D:\\anaconda\\lib\\site-packages\\sklearn\\base.py:493: FutureWarning: The feature names should match those that were passed during fit. Starting version 1.2, an error will be raised.\n",
      "Feature names unseen at fit time:\n",
      "- day_of_week\n",
      "- hour_category_early_morning\n",
      "- hour_category_late_night\n",
      "- hour_category_peak_hours\n",
      "- store_and_fwd_Y\n",
      "Feature names seen at fit time, yet now missing:\n",
      "- dayofweek\n",
      "- hour_category_early morning\n",
      "- hour_category_late night\n",
      "- hour_category_peak hours\n",
      "- store_and_fwd_flag_Y\n",
      "\n",
      "  warnings.warn(message, FutureWarning)\n"
     ]
    },
    {
     "data": {
      "text/plain": [
       "array([21.89246005])"
      ]
     },
     "execution_count": 213,
     "metadata": {},
     "output_type": "execute_result"
    }
   ],
   "source": [
    "lr.predict(new_booking)"
   ]
  },
  {
   "cell_type": "code",
   "execution_count": 116,
   "id": "44cff871",
   "metadata": {},
   "outputs": [],
   "source": [
    "import pickle"
   ]
  },
  {
   "cell_type": "code",
   "execution_count": 117,
   "id": "e163c269",
   "metadata": {},
   "outputs": [],
   "source": [
    "pickle.dump(lr,open(\"linearRegression.pkl\",'wb'))"
   ]
  },
  {
   "cell_type": "code",
   "execution_count": null,
   "id": "cebcba1e",
   "metadata": {},
   "outputs": [],
   "source": []
  }
 ],
 "metadata": {
  "kernelspec": {
   "display_name": "Python 3 (ipykernel)",
   "language": "python",
   "name": "python3"
  },
  "language_info": {
   "codemirror_mode": {
    "name": "ipython",
    "version": 3
   },
   "file_extension": ".py",
   "mimetype": "text/x-python",
   "name": "python",
   "nbconvert_exporter": "python",
   "pygments_lexer": "ipython3",
   "version": "3.9.7"
  }
 },
 "nbformat": 4,
 "nbformat_minor": 5
}
